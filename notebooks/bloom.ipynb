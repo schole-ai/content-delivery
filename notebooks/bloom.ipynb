{
 "cells": [
  {
   "cell_type": "code",
   "execution_count": 9,
   "metadata": {},
   "outputs": [
    {
     "name": "stdout",
     "output_type": "stream",
     "text": [
      "The autoreload extension is already loaded. To reload it, use:\n",
      "  %reload_ext autoreload\n"
     ]
    }
   ],
   "source": [
    "import sys\n",
    "import os\n",
    "\n",
    "sys.path.append(os.path.abspath(os.path.join(os.getcwd(), '..')))\n",
    "\n",
    "from scripts.bloom_gen import BloomQuestionGenerator\n",
    "from scripts.chunk import TextChunker\n",
    "\n",
    "%load_ext autoreload\n",
    "%autoreload 2"
   ]
  },
  {
   "cell_type": "markdown",
   "metadata": {},
   "source": [
    "## Test Bloom Question Generation"
   ]
  },
  {
   "cell_type": "code",
   "execution_count": 10,
   "metadata": {},
   "outputs": [],
   "source": [
    "with open('../data/AI_Articles/Artificial intelligence.txt', 'r') as file:\n",
    "    text = file.read()"
   ]
  },
  {
   "cell_type": "code",
   "execution_count": 27,
   "metadata": {},
   "outputs": [
    {
     "name": "stdout",
     "output_type": "stream",
     "text": [
      "106\n",
      "Artificial intelligence (AI), in its broadest sense, is intelligence exhibited by machines, particularly computer systems. It is a field of research in computer science that develops and studies methods and software that enable machines to perceive their environment and use learning and intelligence to take actions that maximize their chances of achieving defined goals. Such machines may be called AIs.\n",
      "High-profile applications of AI include advanced web search engines (e.g., Google Search); recommendation systems (used by YouTube, Amazon, and Netflix); virtual assistants (e.g., Google Assistant, Siri, and Alexa); autonomous vehicles (e.g., Waymo); generative and creative tools (e.g., ChatGPT and AI art); and superhuman play and analysis in strategy games (e.g., chess and Go). However, many AI applications are not perceived as AI: \"A lot of cutting edge AI has filtered into general applications, often without being called AI because once something becomes useful enough and common enough it's not labeled AI anymore.\"\n"
     ]
    }
   ],
   "source": [
    "chunker = TextChunker()\n",
    "chunks = chunker.recursive_chunk(text, chunk_size=256, by_tokens=True)\n",
    "print(len(chunks))\n",
    "print(chunks[0])"
   ]
  },
  {
   "cell_type": "code",
   "execution_count": 30,
   "metadata": {},
   "outputs": [
    {
     "name": "stdout",
     "output_type": "stream",
     "text": [
      "Which of the following statements best evaluates the impact of artificial intelligence in everyday applications?\n",
      "\n",
      "A. AI is only used in high-profile applications like autonomous vehicles and virtual assistants.\n",
      "B. AI applications are always recognized and labeled as AI by the general public.\n",
      "C. AI has become so integrated and useful in everyday applications that it often goes unnoticed and is not labeled as AI.\n",
      "D. AI cannot be used in general applications as it is a complex field of research limited to computer systems.\n"
     ]
    }
   ],
   "source": [
    "bloom_generator = BloomQuestionGenerator()\n",
    "question = bloom_generator.generate_question(chunks[0], question_type=\"MCQ\", level=5, prompt_type=\"basic\")\n",
    "print(question)"
   ]
  },
  {
   "cell_type": "code",
   "execution_count": 31,
   "metadata": {},
   "outputs": [
    {
     "name": "stdout",
     "output_type": "stream",
     "text": [
      "Can you explain why some applications of artificial intelligence are not always recognized or labeled as such, despite their widespread use and utility?\n"
     ]
    }
   ],
   "source": [
    "question = bloom_generator.generate_question(chunks[0], question_type=\"SAQ\", level=2, prompt_type=\"desc\")\n",
    "print(question)"
   ]
  },
  {
   "cell_type": "code",
   "execution_count": 33,
   "metadata": {},
   "outputs": [
    {
     "name": "stdout",
     "output_type": "stream",
     "text": [
      "How would you describe the purpose and applications of Artificial Intelligence in everyday technology, such as web search engines, recommendation systems, and virtual assistants?\n"
     ]
    }
   ],
   "source": [
    "question = bloom_generator.generate_question(chunks[0], question_type=\"SAQ\", level=2, prompt_type=\"desc_examples\")\n",
    "print(question)"
   ]
  },
  {
   "cell_type": "markdown",
   "metadata": {},
   "source": [
    "### Evalutate Generated Questions with BloomBERT"
   ]
  },
  {
   "cell_type": "code",
   "execution_count": null,
   "metadata": {},
   "outputs": [],
   "source": []
  }
 ],
 "metadata": {
  "kernelspec": {
   "display_name": "ml4ed",
   "language": "python",
   "name": "python3"
  },
  "language_info": {
   "codemirror_mode": {
    "name": "ipython",
    "version": 3
   },
   "file_extension": ".py",
   "mimetype": "text/x-python",
   "name": "python",
   "nbconvert_exporter": "python",
   "pygments_lexer": "ipython3",
   "version": "3.11.11"
  }
 },
 "nbformat": 4,
 "nbformat_minor": 2
}
