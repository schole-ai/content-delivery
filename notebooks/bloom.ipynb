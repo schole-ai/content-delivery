{
 "cells": [
  {
   "cell_type": "code",
   "execution_count": 1,
   "metadata": {},
   "outputs": [],
   "source": [
    "import sys\n",
    "import os\n",
    "import json\n",
    "import random\n",
    "import pandas as pd\n",
    "import numpy as np\n",
    "import matplotlib.pyplot as plt\n",
    "import seaborn as sns\n",
    "from tqdm.notebook import tqdm\n",
    "\n",
    "sys.path.append(os.path.abspath(os.path.join(os.getcwd(), '..')))\n",
    "\n",
    "from backend.scripts.bloom_gen import BloomQuestionGenerator\n",
    "from backend.scripts.chunk import TextChunker, PDFChunker\n",
    "\n",
    "%matplotlib inline\n",
    "%load_ext autoreload\n",
    "%autoreload 2"
   ]
  },
  {
   "cell_type": "markdown",
   "metadata": {},
   "source": [
    "## Test Bloom Question Generation"
   ]
  },
  {
   "cell_type": "code",
   "execution_count": 2,
   "metadata": {},
   "outputs": [],
   "source": [
    "with open('../data/AI_Articles/Artificial intelligence.txt', 'r') as file:\n",
    "    text = file.read()"
   ]
  },
  {
   "cell_type": "code",
   "execution_count": 3,
   "metadata": {},
   "outputs": [
    {
     "name": "stdout",
     "output_type": "stream",
     "text": [
      "106\n",
      "[Document(metadata={'type': 'text'}, page_content='Artificial intelligence (AI), in its broadest sense, is intelligence exhibited by machines, particularly computer systems. It is a field of research in computer science that develops and studies methods and software that enable machines to perceive their environment and use learning and intelligence to take actions that maximize their chances of achieving defined goals. Such machines may be called AIs.\\nHigh-profile applications of AI include advanced web search engines (e.g., Google Search); recommendation systems (used by YouTube, Amazon, and Netflix); virtual assistants (e.g., Google Assistant, Siri, and Alexa); autonomous vehicles (e.g., Waymo); generative and creative tools (e.g., ChatGPT and AI art); and superhuman play and analysis in strategy games (e.g., chess and Go). However, many AI applications are not perceived as AI: \"A lot of cutting edge AI has filtered into general applications, often without being called AI because once something becomes useful enough and common enough it\\'s not labeled AI anymore.\"')]\n"
     ]
    }
   ],
   "source": [
    "chunker = TextChunker(text, output_document=True)\n",
    "chunks = chunker.recursive_chunk(chunk_size=256, by_tokens=True)\n",
    "print(len(chunks))\n",
    "print(chunks[0])"
   ]
  },
  {
   "cell_type": "code",
   "execution_count": 14,
   "metadata": {},
   "outputs": [
    {
     "name": "stdout",
     "output_type": "stream",
     "text": [
      "{\n",
      "  \"question\": \"Which of the following best evaluates the impact of AI applications on everyday technology and society?\",\n",
      "  \"choices\": {\n",
      "    \"A\": \"AI applications are mostly experimental and have yet to demonstrate significant societal impact.\",\n",
      "    \"B\": \"AI has transformed everyday technology, often becoming so integrated that its presence is no longer recognized as AI.\",\n",
      "    \"C\": \"AI applications are only recognized in high-profile technology sectors and have little effect on general technological development.\",\n",
      "    \"D\": \"AI applications are primarily limited to niche fields and have minimal influence on everyday technology.\"\n",
      "  },\n",
      "  \"answer\": \"B\"\n",
      "}\n"
     ]
    }
   ],
   "source": [
    "bloom_generator = BloomQuestionGenerator()\n",
    "question = bloom_generator.generate_question(chunks[0], question_type=\"MCQ\", level=5, prompt_type=\"basic\")\n",
    "print(json.dumps(question, indent=2))"
   ]
  },
  {
   "cell_type": "code",
   "execution_count": 8,
   "metadata": {},
   "outputs": [
    {
     "name": "stdout",
     "output_type": "stream",
     "text": [
      "{\n",
      "  \"question\": \"What is artificial intelligence and how is it applied in various technologies?\",\n",
      "  \"correct_answer\": \"Artificial intelligence is intelligence exhibited by machines, particularly computer systems, that can perceive their environment and use learning and intelligence to take actions to achieve defined goals. It is applied in technologies such as advanced web search engines, recommendation systems, virtual assistants, autonomous vehicles, generative tools, and strategy games.\",\n",
      "  \"incorrect_answer\": \"Artificial intelligence is a type of human intelligence that is only used in video games and has no applications in real-world technologies.\"\n",
      "}\n"
     ]
    }
   ],
   "source": [
    "question = bloom_generator.generate_question(chunks[0], question_type=\"SAQ\", level=2, prompt_type=\"desc\")\n",
    "print(json.dumps(question, indent=2))"
   ]
  },
  {
   "cell_type": "code",
   "execution_count": 9,
   "metadata": {},
   "outputs": [
    {
     "name": "stdout",
     "output_type": "stream",
     "text": [
      "{\n",
      "  \"question\": \"Design a new AI application that could revolutionize a specific industry of your choice. Describe its core functionalities, how it would interact with its environment, and the goals it aims to achieve.\",\n",
      "  \"correct_answer\": \"An AI application for the healthcare industry could be designed to assist in early disease detection. Its core functionalities might include analyzing patient data from various sources such as medical records, wearable devices, and genetic information to identify patterns indicative of potential health issues. It would interact with its environment by integrating with existing healthcare databases and systems, providing real-time alerts to healthcare providers. The goals would be to improve patient outcomes by enabling early intervention and personalized treatment plans.\",\n",
      "  \"incorrect_answer\": \"An AI application that helps users find the best pizza places in their area by simply using GPS data and recommending the closest option. It would not need to analyze any complex data or integrate with other systems, and its main goal would be to suggest nearby pizza places.\"\n",
      "}\n"
     ]
    }
   ],
   "source": [
    "question = bloom_generator.generate_question(chunks[0], question_type=\"SAQ\", level=6, prompt_type=\"desc_examples\")\n",
    "print(json.dumps(question, indent=2))"
   ]
  },
  {
   "cell_type": "markdown",
   "metadata": {},
   "source": [
    "### Evalutate Generated Questions with BloomBERT"
   ]
  },
  {
   "cell_type": "code",
   "execution_count": 10,
   "metadata": {},
   "outputs": [
    {
     "data": {
      "text/plain": [
       "(6, True)"
      ]
     },
     "execution_count": 10,
     "metadata": {},
     "output_type": "execute_result"
    }
   ],
   "source": [
    "bloom_generator.evaluate_question(question[\"question\"], level=6)"
   ]
  },
  {
   "cell_type": "code",
   "execution_count": 15,
   "metadata": {},
   "outputs": [
    {
     "data": {
      "application/vnd.jupyter.widget-view+json": {
       "model_id": "c89202a8f6f242daa7e4c42fa7499c7a",
       "version_major": 2,
       "version_minor": 0
      },
      "text/plain": [
       "Question Types:   0%|          | 0/2 [00:00<?, ?it/s]"
      ]
     },
     "metadata": {},
     "output_type": "display_data"
    },
    {
     "data": {
      "application/vnd.jupyter.widget-view+json": {
       "model_id": "2c16800ba9de4111aea419884dfd3a14",
       "version_major": 2,
       "version_minor": 0
      },
      "text/plain": [
       "Prompt Types:   0%|          | 0/3 [00:00<?, ?it/s]"
      ]
     },
     "metadata": {},
     "output_type": "display_data"
    },
    {
     "data": {
      "application/vnd.jupyter.widget-view+json": {
       "model_id": "d27395d345d1484698473730e5318eec",
       "version_major": 2,
       "version_minor": 0
      },
      "text/plain": [
       "Levels:   0%|          | 0/6 [00:00<?, ?it/s]"
      ]
     },
     "metadata": {},
     "output_type": "display_data"
    },
    {
     "data": {
      "application/vnd.jupyter.widget-view+json": {
       "model_id": "4cb3219941ad4a88b8b219eec5c043ad",
       "version_major": 2,
       "version_minor": 0
      },
      "text/plain": [
       "Levels:   0%|          | 0/6 [00:00<?, ?it/s]"
      ]
     },
     "metadata": {},
     "output_type": "display_data"
    },
    {
     "data": {
      "application/vnd.jupyter.widget-view+json": {
       "model_id": "ad008030fe7f4b7c8b0795c6d0319ca4",
       "version_major": 2,
       "version_minor": 0
      },
      "text/plain": [
       "Levels:   0%|          | 0/6 [00:00<?, ?it/s]"
      ]
     },
     "metadata": {},
     "output_type": "display_data"
    },
    {
     "data": {
      "application/vnd.jupyter.widget-view+json": {
       "model_id": "a9ec767fd0cb40fd92baa47f3c220150",
       "version_major": 2,
       "version_minor": 0
      },
      "text/plain": [
       "Prompt Types:   0%|          | 0/3 [00:00<?, ?it/s]"
      ]
     },
     "metadata": {},
     "output_type": "display_data"
    },
    {
     "data": {
      "application/vnd.jupyter.widget-view+json": {
       "model_id": "ee4b9550eda341f78403cb703e86458a",
       "version_major": 2,
       "version_minor": 0
      },
      "text/plain": [
       "Levels:   0%|          | 0/6 [00:00<?, ?it/s]"
      ]
     },
     "metadata": {},
     "output_type": "display_data"
    },
    {
     "data": {
      "application/vnd.jupyter.widget-view+json": {
       "model_id": "f9853c386aed48b595ce61a108bfff3e",
       "version_major": 2,
       "version_minor": 0
      },
      "text/plain": [
       "Levels:   0%|          | 0/6 [00:00<?, ?it/s]"
      ]
     },
     "metadata": {},
     "output_type": "display_data"
    },
    {
     "data": {
      "application/vnd.jupyter.widget-view+json": {
       "model_id": "0dfd3a0097c4464581c52cfc7978dcb7",
       "version_major": 2,
       "version_minor": 0
      },
      "text/plain": [
       "Levels:   0%|          | 0/6 [00:00<?, ?it/s]"
      ]
     },
     "metadata": {},
     "output_type": "display_data"
    }
   ],
   "source": [
    "# Create a DataFrame with col names: 'question_type', 'prompt_type', 'gen_question', 'level', 'predicted_level', 'is_correct' \n",
    "# with 10 records for each combination of question_type, prompt_type, and level\n",
    "\n",
    "question_types = ['MCQ', 'SAQ']\n",
    "prompt_types = ['basic', 'desc', 'desc_examples']\n",
    "levels = range(1, 7)\n",
    "\n",
    "data = []\n",
    "for question_type in tqdm(question_types, desc=\"Question Types\"):\n",
    "    for prompt_type in tqdm(prompt_types, desc=\"Prompt Types\"):\n",
    "        for level in tqdm(levels, desc=\"Levels\"):\n",
    "            for _ in range(10):\n",
    "                random_chunk = random.choice(chunks)\n",
    "                question = bloom_generator.generate_question(random_chunk, question_type=question_type, level=level, prompt_type=prompt_type)\n",
    "                predicted_level, is_correct = bloom_generator.evaluate_question(question['question'], level)\n",
    "                data.append([question_type, prompt_type, question, level, predicted_level, is_correct])\n",
    "\n",
    "df = pd.DataFrame(data, columns=['question_type', 'prompt_type', 'gen_question', 'level', 'predicted_level', 'is_correct'])"
   ]
  },
  {
   "cell_type": "code",
   "execution_count": 14,
   "metadata": {},
   "outputs": [],
   "source": [
    "# save the DataFrame to a csv file\n",
    "df.to_csv('questions_v3.csv', index=False)"
   ]
  },
  {
   "cell_type": "code",
   "execution_count": 16,
   "metadata": {},
   "outputs": [
    {
     "data": {
      "text/html": [
       "<div>\n",
       "<style scoped>\n",
       "    .dataframe tbody tr th:only-of-type {\n",
       "        vertical-align: middle;\n",
       "    }\n",
       "\n",
       "    .dataframe tbody tr th {\n",
       "        vertical-align: top;\n",
       "    }\n",
       "\n",
       "    .dataframe thead th {\n",
       "        text-align: right;\n",
       "    }\n",
       "</style>\n",
       "<table border=\"1\" class=\"dataframe\">\n",
       "  <thead>\n",
       "    <tr style=\"text-align: right;\">\n",
       "      <th></th>\n",
       "      <th>question_type</th>\n",
       "      <th>prompt_type</th>\n",
       "      <th>gen_question</th>\n",
       "      <th>level</th>\n",
       "      <th>predicted_level</th>\n",
       "      <th>is_correct</th>\n",
       "    </tr>\n",
       "  </thead>\n",
       "  <tbody>\n",
       "    <tr>\n",
       "      <th>0</th>\n",
       "      <td>MCQ</td>\n",
       "      <td>basic</td>\n",
       "      <td>{'question': 'Which of the following is an app...</td>\n",
       "      <td>1</td>\n",
       "      <td>2</td>\n",
       "      <td>False</td>\n",
       "    </tr>\n",
       "    <tr>\n",
       "      <th>1</th>\n",
       "      <td>MCQ</td>\n",
       "      <td>basic</td>\n",
       "      <td>{'question': 'What percentage of newly funded ...</td>\n",
       "      <td>1</td>\n",
       "      <td>1</td>\n",
       "      <td>True</td>\n",
       "    </tr>\n",
       "    <tr>\n",
       "      <th>2</th>\n",
       "      <td>MCQ</td>\n",
       "      <td>basic</td>\n",
       "      <td>{'question': 'What term describes the tendency...</td>\n",
       "      <td>1</td>\n",
       "      <td>2</td>\n",
       "      <td>False</td>\n",
       "    </tr>\n",
       "    <tr>\n",
       "      <th>3</th>\n",
       "      <td>MCQ</td>\n",
       "      <td>basic</td>\n",
       "      <td>{'question': 'What is the simplest and most wi...</td>\n",
       "      <td>1</td>\n",
       "      <td>1</td>\n",
       "      <td>True</td>\n",
       "    </tr>\n",
       "    <tr>\n",
       "      <th>4</th>\n",
       "      <td>MCQ</td>\n",
       "      <td>basic</td>\n",
       "      <td>{'question': 'What technique did Microsoft pro...</td>\n",
       "      <td>1</td>\n",
       "      <td>2</td>\n",
       "      <td>False</td>\n",
       "    </tr>\n",
       "  </tbody>\n",
       "</table>\n",
       "</div>"
      ],
      "text/plain": [
       "  question_type prompt_type  \\\n",
       "0           MCQ       basic   \n",
       "1           MCQ       basic   \n",
       "2           MCQ       basic   \n",
       "3           MCQ       basic   \n",
       "4           MCQ       basic   \n",
       "\n",
       "                                        gen_question  level  predicted_level  \\\n",
       "0  {'question': 'Which of the following is an app...      1                2   \n",
       "1  {'question': 'What percentage of newly funded ...      1                1   \n",
       "2  {'question': 'What term describes the tendency...      1                2   \n",
       "3  {'question': 'What is the simplest and most wi...      1                1   \n",
       "4  {'question': 'What technique did Microsoft pro...      1                2   \n",
       "\n",
       "   is_correct  \n",
       "0       False  \n",
       "1        True  \n",
       "2       False  \n",
       "3        True  \n",
       "4       False  "
      ]
     },
     "execution_count": 16,
     "metadata": {},
     "output_type": "execute_result"
    }
   ],
   "source": [
    "df.head()"
   ]
  },
  {
   "cell_type": "code",
   "execution_count": 17,
   "metadata": {},
   "outputs": [
    {
     "name": "stdout",
     "output_type": "stream",
     "text": [
      "Prompt Type: basic, Correct Percentage: 60.83%\n",
      "Prompt Type: desc, Correct Percentage: 63.33%\n",
      "Prompt Type: desc_examples, Correct Percentage: 63.33%\n"
     ]
    }
   ],
   "source": [
    "# For each pompt type, print the percentage of is_correct regardless of question type and level\n",
    "for prompt_type in prompt_types:\n",
    "    prompt_df = df[df['prompt_type'] == prompt_type]\n",
    "    correct_percentage = prompt_df['is_correct'].mean() * 100\n",
    "    print(f\"Prompt Type: {prompt_type}, Correct Percentage: {correct_percentage:.2f}%\")\n"
   ]
  },
  {
   "cell_type": "code",
   "execution_count": 18,
   "metadata": {},
   "outputs": [
    {
     "name": "stdout",
     "output_type": "stream",
     "text": [
      "Prompt Type: basic\n",
      "Question Type: MCQ, Percentage of generated questions correctly classified: 55.00%\n",
      "Question Type: SAQ, Percentage of generated questions correctly classified: 66.67%\n",
      "\n",
      "\n",
      "Prompt Type: desc\n",
      "Question Type: MCQ, Percentage of generated questions correctly classified: 56.67%\n",
      "Question Type: SAQ, Percentage of generated questions correctly classified: 70.00%\n",
      "\n",
      "\n",
      "Prompt Type: desc_examples\n",
      "Question Type: MCQ, Percentage of generated questions correctly classified: 60.00%\n",
      "Question Type: SAQ, Percentage of generated questions correctly classified: 66.67%\n",
      "\n",
      "\n"
     ]
    }
   ],
   "source": [
    "# For each pompt type, print the percentage of is_correct depending on question type\n",
    "for prompt in prompt_types:\n",
    "    print(f'Prompt Type: {prompt}')\n",
    "    for question_type in question_types:\n",
    "        percentage = df[(df['prompt_type'] == prompt) & (df['question_type'] == question_type)]['is_correct'].mean() * 100\n",
    "        print(f'Question Type: {question_type}, Percentage of generated questions correctly classified: {percentage:.2f}%')\n",
    "    print('\\n')"
   ]
  },
  {
   "cell_type": "code",
   "execution_count": 19,
   "metadata": {},
   "outputs": [
    {
     "data": {
      "image/png": "[encoded data removed]",
      "text/plain": [
       "<Figure size 1800x1200 with 3 Axes>"
      ]
     },
     "metadata": {},
     "output_type": "display_data"
    }
   ],
   "source": [
    "# Plot the percentage of is_correct for each combination of question_type, prompt_type as bar plot with level on x-axis and percentage of is_correct on y-axis\n",
    "plt.figure(figsize=(18, 12))\n",
    "sns.set_theme(style=\"whitegrid\")\n",
    "\n",
    "# Create a separate plot for each prompt type\n",
    "for i, prompt in enumerate(prompt_types, 1):\n",
    "    plt.subplot(2, 2, i)\n",
    "    ax = sns.barplot(\n",
    "        data=df[df['prompt_type'] == prompt],\n",
    "        x='level',\n",
    "        y='is_correct',\n",
    "        hue='question_type',\n",
    "        errorbar=None,\n",
    "        estimator=lambda x: np.mean(x) * 100\n",
    "    )\n",
    "    plt.title(f'Prompt Type: {prompt}')\n",
    "    plt.xlabel('Level')\n",
    "    plt.ylabel('Percentage')\n",
    "    plt.legend(title='Question Type')\n",
    "\n",
    "    # Add percentage values above each bar\n",
    "    for i in range(6):\n",
    "        for j in range(2):\n",
    "            bar = ax.patches[i * 2 + j]\n",
    "            height = bar.get_height()\n",
    "            ax.annotate(f'{height:.1f}%', \n",
    "                        (bar.get_x() + bar.get_width() / 2., height), \n",
    "                        ha='center', va='bottom', \n",
    "                        fontsize=10, color='black', \n",
    "                        xytext=(0, 5), \n",
    "                        textcoords='offset points')\n",
    "        \n",
    "plt.suptitle('Percentage of generated questions correctly classified by BloomBERT for each prompt type and question type', fontsize=20, y=1.02)\n",
    "plt.tight_layout()\n",
    "plt.show()"
   ]
  },
  {
   "cell_type": "markdown",
   "metadata": {},
   "source": [
    "### Generate question with refining"
   ]
  },
  {
   "cell_type": "code",
   "execution_count": 33,
   "metadata": {},
   "outputs": [
    {
     "name": "stdout",
     "output_type": "stream",
     "text": [
      "Refining question: Which of the following scenarios best illustrates the application of AI in maximizing a machine's ability to achieve defined goals? (predicted level: 2, ground truth level: 3)\n",
      "{\n",
      "  \"question\": \"Which action would best demonstrate the application of AI in optimizing a machine's ability to achieve a specific goal?\",\n",
      "  \"choices\": {\n",
      "    \"A\": \"Using a virtual assistant to automatically adjust your schedule based on traffic conditions.\",\n",
      "    \"B\": \"Utilizing a pedometer app to count steps during a walk.\",\n",
      "    \"C\": \"Calculating the sum of numbers using a traditional calculator.\",\n",
      "    \"D\": \"Checking the weather forecast on a website.\"\n",
      "  },\n",
      "  \"answer\": \"A\"\n",
      "}\n"
     ]
    }
   ],
   "source": [
    "question = bloom_generator.generate_question(chunks[0], question_type=\"MCQ\", level=3, prompt_type=\"desc\", refine=True)\n",
    "print(json.dumps(question, indent=2))"
   ]
  },
  {
   "cell_type": "code",
   "execution_count": 34,
   "metadata": {},
   "outputs": [
    {
     "data": {
      "text/plain": [
       "(5, False)"
      ]
     },
     "execution_count": 34,
     "metadata": {},
     "output_type": "execute_result"
    }
   ],
   "source": [
    "bloom_generator.evaluate_question(question[\"question\"], level=3)"
   ]
  },
  {
   "cell_type": "code",
   "execution_count": 35,
   "metadata": {},
   "outputs": [
    {
     "data": {
      "application/vnd.jupyter.widget-view+json": {
       "model_id": "4cbae0404456427589276715daa8273a",
       "version_major": 2,
       "version_minor": 0
      },
      "text/plain": [
       "Question Types:   0%|          | 0/2 [00:00<?, ?it/s]"
      ]
     },
     "metadata": {},
     "output_type": "display_data"
    },
    {
     "data": {
      "application/vnd.jupyter.widget-view+json": {
       "model_id": "d748e0b55cf44e898f6e72a723d6b521",
       "version_major": 2,
       "version_minor": 0
      },
      "text/plain": [
       "Prompt Types:   0%|          | 0/3 [00:00<?, ?it/s]"
      ]
     },
     "metadata": {},
     "output_type": "display_data"
    },
    {
     "data": {
      "application/vnd.jupyter.widget-view+json": {
       "model_id": "5d3099af5bf8451c8578adee304bafb3",
       "version_major": 2,
       "version_minor": 0
      },
      "text/plain": [
       "Levels:   0%|          | 0/6 [00:00<?, ?it/s]"
      ]
     },
     "metadata": {},
     "output_type": "display_data"
    },
    {
     "name": "stdout",
     "output_type": "stream",
     "text": [
      "Refining question: What definition does Google use to describe the manifestation of intelligence in AI systems? (predicted level: 2, ground truth level: 1)\n",
      "Refining question: What does a Markov decision process include to describe the probability that a particular action will change the state? (predicted level: 2, ground truth level: 1)\n",
      "Refining question: What is one criticism of sub-symbolic AI mentioned in the context? (predicted level: 2, ground truth level: 1)\n",
      "Refining question: What is one of the main challenges in knowledge representation related to commonsense knowledge? (predicted level: 1, ground truth level: 2)\n",
      "Refining question: What concern is raised about artificial intelligence in relation to middle-class jobs? (predicted level: 5, ground truth level: 2)\n",
      "Refining question: What is the primary focus of friendly AI as discussed in the context? (predicted level: 1, ground truth level: 2)\n",
      "Refining question: What is a key challenge faced by large language models when solving mathematical problems? (predicted level: 1, ground truth level: 2)\n",
      "Refining question: What is the primary purpose of a knowledge base in the context of AI? (predicted level: 1, ground truth level: 2)\n",
      "Refining question: What is the primary purpose of business process automation? (predicted level: 1, ground truth level: 2)\n",
      "Refining question: What was the primary purpose of the Magna Carta when it was originally created in 1215? (predicted level: 1, ground truth level: 2)\n",
      "Refining question: If a software with artificial general intelligence begins to improve its own capabilities, which process describes its potential to continuously enhance itself at an accelerating rate? (predicted level: 5, ground truth level: 3)\n",
      "Refining question: How can the 'Inspect' toolset released by the UK AI Safety Institute be applied in the development of AI systems? (predicted level: 2, ground truth level: 3)\n",
      "Refining question: If a rectangle has a length of 8 cm and a width of 5 cm, what is the area of the rectangle? (predicted level: 1, ground truth level: 3)\n",
      "Refining question: Which approach involves solving new problems by applying solutions from similar past experiences? (predicted level: 6, ground truth level: 3)\n",
      "Refining question: How might AI tools be applied to address the concerns raised about their potential misuse by bad actors? (predicted level: 6, ground truth level: 3)\n",
      "Refining question: Which approach focuses on developing machines that are designed to minimize risks and make beneficial choices for humans? (predicted level: 6, ground truth level: 3)\n",
      "Refining question: Which type of neural network would be most suitable for processing sequential data due to its ability to remember previous inputs? (predicted level: 2, ground truth level: 3)\n",
      "Refining question: What process describes the scenario where an intelligent software continuously enhances its own capabilities, potentially leading to a rapid increase in intelligence? (predicted level: 2, ground truth level: 3)\n",
      "Refining question: Which technique can be used to locally approximate a model's outputs with a simpler, interpretable model? (predicted level: 2, ground truth level: 3)\n",
      "Refining question: What action did the U.S. and British governments take in response to Japan's fifth generation computer project in the early 1980s? (predicted level: 2, ground truth level: 3)\n",
      "Refining question: What is a key difference in the processing capabilities between wetware computers and traditional silicon-based computers? (predicted level: 2, ground truth level: 4)\n",
      "Refining question: What key difference can be identified between the AI agent that competed in the Gran Turismo competition and SIMA introduced by Google DeepMind? (predicted level: 2, ground truth level: 4)\n",
      "Refining question: Which of the following scenarios best illustrates the use of an ontology in a knowledge-based system? (predicted level: 2, ground truth level: 4)\n",
      "Refining question: Which method of local search is best evaluated for its ability to handle non-convex optimization problems by exploring multiple solutions simultaneously and using mechanisms inspired by natural selection? (predicted level: 2, ground truth level: 5)\n",
      "Refining question: When evaluating the effectiveness of an agent's decision-making process, which factor is most crucial in determining the optimal action to take? (predicted level: 4, ground truth level: 5)\n",
      "Refining question: Which of the following scenarios would most effectively illustrate the concept of existential risk? (predicted level: 2, ground truth level: 5)\n",
      "Refining question: Which aspect of knowledge representation is most crucial for enabling AI programs to derive actionable inferences from large databases? (predicted level: 2, ground truth level: 5)\n",
      "Refining question: Which approach in AI research from the 1980s is considered a significant shift from high-level symbolic representation, focusing instead on handling incomplete and uncertain information? (predicted level: 4, ground truth level: 5)\n",
      "Refining question: Which approach is most effective for addressing the common sense knowledge problem in natural language processing? (predicted level: 2, ground truth level: 5)\n"
     ]
    },
    {
     "data": {
      "application/vnd.jupyter.widget-view+json": {
       "model_id": "1e29b71d6289433099540c9f545ba9a7",
       "version_major": 2,
       "version_minor": 0
      },
      "text/plain": [
       "Levels:   0%|          | 0/6 [00:00<?, ?it/s]"
      ]
     },
     "metadata": {},
     "output_type": "display_data"
    },
    {
     "name": "stdout",
     "output_type": "stream",
     "text": [
      "Refining question: Which method allows developers to see what different layers of a deep network for computer vision have learned? (predicted level: 4, ground truth level: 1)\n",
      "Refining question: Which industry uses AI to predict the ripening time for crops and monitor soil moisture? (predicted level: 2, ground truth level: 1)\n",
      "Refining question: What contributed to the success of deep learning? (predicted level: 5, ground truth level: 1)\n",
      "Refining question: Who developed the design for 'artificial neurons' in 1943? (predicted level: 6, ground truth level: 1)\n",
      "Refining question: Which computer system became the first to defeat a reigning world chess champion? (predicted level: 2, ground truth level: 1)\n",
      "Refining question: What approach did some researchers in the 1980s begin to explore to address limitations in AI's ability to mimic human cognition? (predicted level: 6, ground truth level: 2)\n",
      "Refining question: What is one reason deep learning has achieved significant success in recent years? (predicted level: 4, ground truth level: 2)\n",
      "Refining question: What is one of the traditional goals of AI research? (predicted level: 1, ground truth level: 2)\n",
      "Refining question: What is a primary focus of distributive fairness in AI systems? (predicted level: 1, ground truth level: 2)\n",
      "Refining question: What is a significant challenge in knowledge representation related to commonsense knowledge? (predicted level: 1, ground truth level: 2)\n",
      "Refining question: What is one potential consequence of deploying AI tools in the finance sector? (predicted level: 1, ground truth level: 2)\n",
      "Refining question: How do AI tools assist authoritarian governments in controlling their citizens? (predicted level: 3, ground truth level: 2)\n",
      "Refining question: What is the primary purpose of using variables in algebraic expressions? (predicted level: 1, ground truth level: 2)\n",
      "Refining question: Which of the following scenarios best illustrates the concept of technological unemployment? (predicted level: 2, ground truth level: 3)\n",
      "Refining question: If a superintelligent AI were to improve its own software, what would be the expected outcome according to the concept of the 'intelligence explosion'? (predicted level: 5, ground truth level: 3)\n",
      "Refining question: Which method would you use to solve a problem using Horn clauses in the logic programming language Prolog? (predicted level: 2, ground truth level: 3)\n",
      "Refining question: Which of the following scenarios best illustrates the application of case-based reasoning? (predicted level: 2, ground truth level: 3)\n",
      "Refining question: A company is developing an AI system and wants to ensure it does not reinforce negative stereotypes. Which type of fairness should the company focus on to address this concern? (predicted level: 5, ground truth level: 3)\n",
      "Refining question: If a language model uses the rStar-Math technique with Monte Carlo tree search to solve math problems, which of the following would it most likely be able to do? (predicted level: 2, ground truth level: 3)\n",
      "Refining question: Given the increasing global focus on AI regulation, if a country wanted to align with international efforts, which of the following actions would be most appropriate? (predicted level: 5, ground truth level: 3)\n",
      "Refining question: Which application would most likely use AI technology to provide personalized content suggestions based on user behavior? (predicted level: 2, ground truth level: 3)\n",
      "Refining question: Which procedure would a machine use to identify objects in a series of images? (predicted level: 2, ground truth level: 3)\n",
      "Refining question: If you were a policy advisor recommending AI regulations based on recent global attitudes and summits, which action would best apply the insights from the 2023 AI Safety Summit? (predicted level: 5, ground truth level: 3)\n",
      "Refining question: What is a potential criticism of granting 'electronic personhood' to AI systems, according to discussions on AI rights? (predicted level: 2, ground truth level: 4)\n",
      "Refining question: How did the historical development of logic and computation contribute to the concept of artificial intelligence? (predicted level: 3, ground truth level: 4)\n",
      "Refining question: In the design of a strategy board game, how do the mechanics of resource management and player interaction contribute to the overall game strategy? (predicted level: 6, ground truth level: 4)\n",
      "Refining question: Which approach to artificial intelligence is argued to be necessary for achieving general intelligence due to its potential for explainability? (predicted level: 2, ground truth level: 5)\n",
      "Refining question: Which of the following considerations is most important when evaluating the ethical permissibility of releasing an open-weight AI model? (predicted level: 4, ground truth level: 5)\n"
     ]
    },
    {
     "data": {
      "application/vnd.jupyter.widget-view+json": {
       "model_id": "0218f7eaa2fc43cdbaeb6d62dbaffd31",
       "version_major": 2,
       "version_minor": 0
      },
      "text/plain": [
       "Levels:   0%|          | 0/6 [00:00<?, ?it/s]"
      ]
     },
     "metadata": {},
     "output_type": "display_data"
    },
    {
     "name": "stdout",
     "output_type": "stream",
     "text": [
      "Refining question: What term is used to describe the absence of openness and clarity in communication or actions? (predicted level: 2, ground truth level: 1)\n",
      "Refining question: What term describes the rapid increase in computational difficulty faced by algorithms as problem size grows? (predicted level: 2, ground truth level: 1)\n",
      "Refining question: What is one of the most challenging aspects of knowledge representation in AI? (predicted level: 5, ground truth level: 1)\n",
      "Refining question: What type of fairness focuses on the outcomes and often seeks to compensate for statistical disparities? (predicted level: 2, ground truth level: 1)\n",
      "Refining question: What type of fairness focuses on ensuring that AI systems do not reinforce negative stereotypes? (predicted level: 2, ground truth level: 1)\n",
      "Refining question: Who proposed the question 'can machines think?' in 1950? (predicted level: 2, ground truth level: 1)\n",
      "Refining question: What is one factor that may influence whether the use of copyrighted works by generative AI is considered 'fair use'? (predicted level: 4, ground truth level: 2)\n",
      "Refining question: What is the primary function of classifiers in AI applications? (predicted level: 1, ground truth level: 2)\n",
      "Refining question: What shift in AI research focus occurred in the 1980s regarding the representation of mental processes? (predicted level: 4, ground truth level: 2)\n",
      "Refining question: What is a primary challenge in early natural language processing efforts that relied on generative grammar and semantic networks? (predicted level: 1, ground truth level: 2)\n",
      "Refining question: What was the primary purpose of the Council of Europe's 'Framework Convention on Artificial Intelligence and Human Rights, Democracy and the Rule of Law' adopted in 2024? (predicted level: 1, ground truth level: 2)\n",
      "Refining question: What distinguishes the 'hard' problem of consciousness from the 'easy' problem, according to David Chalmers? (predicted level: 4, ground truth level: 2)\n",
      "Refining question: In the context of exploring human subjectivity through AI, which action would best illustrate the ability of an artificial being to experience human-like emotions? (predicted level: 5, ground truth level: 3)\n",
      "Refining question: How would you assess the potential impact of a new technology in terms of existential risk? (predicted level: 5, ground truth level: 3)\n",
      "Refining question: How would you classify an AI system that primarily uses neural networks for data processing? (predicted level: 2, ground truth level: 3)\n",
      "Refining question: Given the surge in attention to fairness and misuse of technology in 2016, how should a researcher apply ethical guidelines when developing a new machine learning model? (predicted level: 5, ground truth level: 3)\n",
      "Refining question: Which technique would you use to ensure that sensitive data remains protected while still allowing for its analysis? (predicted level: 2, ground truth level: 3)\n",
      "Refining question: How would you determine if a company's product truly utilizes AI based on Google's definition of artificial intelligence? (predicted level: 5, ground truth level: 3)\n",
      "Refining question: How do the differing estimates of job risks from AI reflect on the methodologies used by researchers? (predicted level: 5, ground truth level: 4)\n",
      "Refining question: How did the introduction of deep learning and the transformer architecture contribute to the cycles of optimism and disappointment in the history of artificial intelligence? (predicted level: 6, ground truth level: 4)\n",
      "Refining question: How do the arguments for and against granting rights to AI highlight different perspectives on the integration of AI into society? (predicted level: 5, ground truth level: 4)\n",
      "Refining question: How did the introduction of transformer architecture in 2017 contribute to the AI boom? (predicted level: 3, ground truth level: 4)\n",
      "Refining question: Which criterion is most important when evaluating the effectiveness of an AI recommendation system? (predicted level: 2, ground truth level: 5)\n",
      "Refining question: Considering the arguments presented by Yuval Noah Harari and the concerns expressed by experts like Geoffrey Hinton, what is the most critical criterion for evaluating the potential existential risk posed by AI? (predicted level: 4, ground truth level: 5)\n",
      "Refining question: Which criterion is most crucial when evaluating the effectiveness of a knowledge base in the context of AI programs? (predicted level: 4, ground truth level: 5)\n"
     ]
    },
    {
     "data": {
      "application/vnd.jupyter.widget-view+json": {
       "model_id": "de5d01dc6c124cacb1da32ca7d8fa9e4",
       "version_major": 2,
       "version_minor": 0
      },
      "text/plain": [
       "Prompt Types:   0%|          | 0/3 [00:00<?, ?it/s]"
      ]
     },
     "metadata": {},
     "output_type": "display_data"
    },
    {
     "data": {
      "application/vnd.jupyter.widget-view+json": {
       "model_id": "ef5cd2d0c60046fd8d1400993151e81b",
       "version_major": 2,
       "version_minor": 0
      },
      "text/plain": [
       "Levels:   0%|          | 0/6 [00:00<?, ?it/s]"
      ]
     },
     "metadata": {},
     "output_type": "display_data"
    },
    {
     "name": "stdout",
     "output_type": "stream",
     "text": [
      "Refining question: What are the two main factors that contributed to the success of deep learning between 2012 and 2015? (predicted level: 4, ground truth level: 1)\n",
      "Refining question: What percentage of U.S. jobs did Michael Osborne and Carl Benedikt Frey estimate to be at 'high risk' of potential automation? (predicted level: 4, ground truth level: 1)\n",
      "Refining question: What are the names of the authors of the textbook 'Artificial Intelligence: A Modern Approach'? (predicted level: 1, ground truth level: 2)\n",
      "Refining question: What distinguishes the 'hard' problem of consciousness from the 'easy' problem according to David Chalmers? (predicted level: 4, ground truth level: 2)\n",
      "Refining question: How does the portrayal of artificial beings as threats differ from their portrayal as loyal entities in popular culture? (predicted level: 4, ground truth level: 2)\n",
      "Refining question: What is the concept of transhumanism as discussed by thinkers like Hans Moravec and Ray Kurzweil? (predicted level: 1, ground truth level: 2)\n",
      "Refining question: How might the concept of transhumanism, as predicted by thinkers like Hans Moravec and Ray Kurzweil, be applied to enhance human capabilities in the future? (predicted level: 6, ground truth level: 3)\n",
      "Refining question: How can AI be applied to improve the functionality of virtual assistants like Google Assistant or Siri? (predicted level: 2, ground truth level: 3)\n",
      "Refining question: How can heuristics improve the efficiency of state space search in solving complex problems? (predicted level: 2, ground truth level: 3)\n",
      "Refining question: Given a scenario where an agent must choose between two actions, A and B, with action A having a higher probability of success but lower utility, and action B having a lower probability of success but higher utility, how should the agent decide which action to take using expected utility? (predicted level: 6, ground truth level: 3)\n",
      "Refining question: How might authoritarian governments use AI technologies such as facial recognition and machine learning to maintain control over their citizens? (predicted level: 6, ground truth level: 3)\n",
      "Refining question: Evaluate the ethical implications of denying AI sentience and compare it to historical instances of moral blind spots, such as slavery or factory farming. (predicted level: 4, ground truth level: 5)\n",
      "Refining question: Evaluate the role of ontologies within knowledge bases in the context of artificial intelligence applications. How do they contribute to the effectiveness of AI in real-world scenarios? (predicted level: 4, ground truth level: 5)\n"
     ]
    },
    {
     "data": {
      "application/vnd.jupyter.widget-view+json": {
       "model_id": "99053b8423694cbdb96b389c92a2d4a1",
       "version_major": 2,
       "version_minor": 0
      },
      "text/plain": [
       "Levels:   0%|          | 0/6 [00:00<?, ?it/s]"
      ]
     },
     "metadata": {},
     "output_type": "display_data"
    },
    {
     "name": "stdout",
     "output_type": "stream",
     "text": [
      "Refining question: Who introduced the concept of the Turing test in 1950? (predicted level: 2, ground truth level: 1)\n",
      "Refining question: In what year was the field of AI research founded? (predicted level: 6, ground truth level: 1)\n",
      "Refining question: What is the name of the hypothesis proposed by Newell and Simon that suggests a physical symbol system is capable of general intelligent action? (predicted level: 2, ground truth level: 1)\n",
      "Refining question: Which notable AI pioneer resigned from Google in May 2023 to speak out about the risks of AI? (predicted level: 2, ground truth level: 1)\n",
      "Refining question: What does the term 'Industrial Revolution' refer to in the context of historical developments? (predicted level: 1, ground truth level: 2)\n",
      "Refining question: What factors contributed to the success of deep learning and its impact on the field of AI? (predicted level: 4, ground truth level: 2)\n",
      "Refining question: What is meant by the term 'existential risk' in the context of global challenges? (predicted level: 1, ground truth level: 2)\n",
      "Refining question: What is the 'hard problem' of consciousness as identified by David Chalmers? (predicted level: 1, ground truth level: 2)\n",
      "Refining question: How might artificial neural networks be applied to improve natural language processing tasks? (predicted level: 2, ground truth level: 3)\n",
      "Refining question: How might the potential denial of AI sentience lead to ethical issues similar to those seen in historical contexts like slavery or factory farming? (predicted level: 4, ground truth level: 3)\n",
      "Refining question: If a company like Microsoft were to enter into an agreement to use all the electric power from a nuclear plant for 20 years, what steps must be taken to ensure the plant can be reopened and operated safely? (predicted level: 5, ground truth level: 3)\n",
      "Refining question: Using the concept of the Turing Test, how would you evaluate whether a new AI chatbot is capable of simulating human conversation effectively? (predicted level: 6, ground truth level: 3)\n",
      "Refining question: If you have a rectangle with a length of 8 cm and a width of 5 cm, how would you calculate its area? (predicted level: 2, ground truth level: 3)\n",
      "Refining question: In the context of transhumanism and the potential merging of humans and machines, how might the concept of 'decomputing' challenge the predictions made by figures like Hans Moravec and Ray Kurzweil? (predicted level: 4, ground truth level: 3)\n"
     ]
    },
    {
     "data": {
      "application/vnd.jupyter.widget-view+json": {
       "model_id": "caa5045cfe8e46259f9a15548043ff97",
       "version_major": 2,
       "version_minor": 0
      },
      "text/plain": [
       "Levels:   0%|          | 0/6 [00:00<?, ?it/s]"
      ]
     },
     "metadata": {},
     "output_type": "display_data"
    },
    {
     "name": "stdout",
     "output_type": "stream",
     "text": [
      "Refining question: What is one of the most challenging problems in knowledge representation related to the type of knowledge people possess? (predicted level: 5, ground truth level: 1)\n",
      "Refining question: Where was the first global AI Safety Summit held in November 2023? (predicted level: 2, ground truth level: 1)\n",
      "Refining question: What two factors contributed to the success of deep learning? (predicted level: 4, ground truth level: 1)\n",
      "Refining question: What program did DARPA establish in 2014 to address the issue of explainable artificial intelligence? (predicted level: 2, ground truth level: 1)\n",
      "Refining question: What organization was launched in June 2020 to ensure AI development aligns with human rights and democratic values? (predicted level: 6, ground truth level: 1)\n",
      "Refining question: How do AI tools enhance the ability of authoritarian governments to control their citizens? (predicted level: 3, ground truth level: 2)\n",
      "Refining question: What factors contributed to the onset of the 'AI winter' in the 1970s? (predicted level: 4, ground truth level: 2)\n",
      "Refining question: How would you use Turing's theory of computation to simulate a simple mathematical operation, such as addition, using binary symbols? (predicted level: 2, ground truth level: 3)\n",
      "Refining question: How would you apply artificial intelligence to improve the efficiency of a recommendation system for an online retail platform? (predicted level: 6, ground truth level: 3)\n",
      "Refining question: How would you apply the physical symbol systems hypothesis to develop an AI capable of solving algebraic problems? (predicted level: 6, ground truth level: 3)\n",
      "Refining question: How would you apply explainability techniques to ensure that a machine learning model used for medical diagnosis is not making decisions based on misleading correlations, such as associating rulers in images with cancerous conditions? (predicted level: 6, ground truth level: 3)\n",
      "Refining question: How would you apply gradient descent to optimize the parameters of a neural network? (predicted level: 2, ground truth level: 3)\n",
      "Refining question: How did the shift from symbolic to sub-symbolic approaches in AI research during the 1980s impact the development of technologies like neural networks and machine learning? (predicted level: 6, ground truth level: 4)\n",
      "Refining question: How do the techniques of data aggregation, de-identification, and differential privacy relate to the evolving perspective of privacy as fairness in AI development? (predicted level: 6, ground truth level: 4)\n",
      "Refining question: How do bad actors potentially exploit AI technologies to achieve harmful objectives, and what are the implications of such exploitation for society? (predicted level: 2, ground truth level: 4)\n",
      "Refining question: What are the strengths and weaknesses of using statistical machine learning with neural networks as the primary approach to artificial intelligence development? (predicted level: 2, ground truth level: 5)\n"
     ]
    }
   ],
   "source": [
    "# Create a DataFrame with col names: 'question_type', 'prompt_type', 'gen_question', 'level', 'predicted_level', 'is_correct' \n",
    "# with 10 records for each combination of question_type, prompt_type, and level\n",
    "\n",
    "question_types = ['MCQ', 'SAQ']\n",
    "prompt_types = ['basic', 'desc', 'desc_examples']\n",
    "levels = range(1, 7)\n",
    "\n",
    "data = []\n",
    "for question_type in tqdm(question_types, desc=\"Question Types\"):\n",
    "    for prompt_type in tqdm(prompt_types, desc=\"Prompt Types\"):\n",
    "        for level in tqdm(levels, desc=\"Levels\"):\n",
    "            for _ in range(10):\n",
    "                random_chunk = random.choice(chunks)\n",
    "                question = bloom_generator.generate_question(random_chunk, question_type=question_type, level=level, prompt_type=prompt_type, refine=True)\n",
    "                predicted_level, is_correct = bloom_generator.evaluate_question(question['question'], level)\n",
    "                data.append([question_type, prompt_type, question, level, predicted_level, is_correct])\n",
    "\n",
    "df = pd.DataFrame(data, columns=['question_type', 'prompt_type', 'gen_question', 'level', 'predicted_level', 'is_correct'])"
   ]
  },
  {
   "cell_type": "code",
   "execution_count": 22,
   "metadata": {},
   "outputs": [],
   "source": [
    "df.to_csv('questions_refining.csv', index=False)"
   ]
  },
  {
   "cell_type": "code",
   "execution_count": 36,
   "metadata": {},
   "outputs": [
    {
     "name": "stdout",
     "output_type": "stream",
     "text": [
      "Prompt Type: basic, Correct Percentage: 75.00%\n",
      "Prompt Type: desc, Correct Percentage: 81.67%\n",
      "Prompt Type: desc_examples, Correct Percentage: 80.83%\n"
     ]
    }
   ],
   "source": [
    "# For each pompt type, print the percentage of is_correct regardless of question type and level\n",
    "for prompt_type in prompt_types:\n",
    "    prompt_df = df[df['prompt_type'] == prompt_type]\n",
    "    correct_percentage = prompt_df['is_correct'].mean() * 100\n",
    "    print(f\"Prompt Type: {prompt_type}, Correct Percentage: {correct_percentage:.2f}%\")\n"
   ]
  },
  {
   "cell_type": "code",
   "execution_count": 37,
   "metadata": {},
   "outputs": [
    {
     "name": "stdout",
     "output_type": "stream",
     "text": [
      "Prompt Type: basic\n",
      "Question Type: MCQ, Percentage of generated questions correctly classified with refining: 63.33%\n",
      "Question Type: SAQ, Percentage of generated questions correctly classified with refining: 86.67%\n",
      "\n",
      "\n",
      "Prompt Type: desc\n",
      "Question Type: MCQ, Percentage of generated questions correctly classified with refining: 70.00%\n",
      "Question Type: SAQ, Percentage of generated questions correctly classified with refining: 93.33%\n",
      "\n",
      "\n",
      "Prompt Type: desc_examples\n",
      "Question Type: MCQ, Percentage of generated questions correctly classified with refining: 70.00%\n",
      "Question Type: SAQ, Percentage of generated questions correctly classified with refining: 91.67%\n",
      "\n",
      "\n"
     ]
    }
   ],
   "source": [
    "# For each pompt type, print the percentage of is_correct depending on question type\n",
    "for prompt in prompt_types:\n",
    "    print(f'Prompt Type: {prompt}')\n",
    "    for question_type in question_types:\n",
    "        percentage = df[(df['prompt_type'] == prompt) & (df['question_type'] == question_type)]['is_correct'].mean() * 100\n",
    "        print(f'Question Type: {question_type}, Percentage of generated questions correctly classified with refining: {percentage:.2f}%')\n",
    "    print('\\n')"
   ]
  },
  {
   "cell_type": "code",
   "execution_count": 38,
   "metadata": {},
   "outputs": [
    {
     "data": {
      "image/png": "[encoded data removed]",
      "text/plain": [
       "<Figure size 1800x1200 with 3 Axes>"
      ]
     },
     "metadata": {},
     "output_type": "display_data"
    }
   ],
   "source": [
    "# Plot the percentage of is_correct for each combination of question_type, prompt_type as bar plot with level on x-axis and percentage of is_correct on y-axis\n",
    "plt.figure(figsize=(18, 12))\n",
    "sns.set_theme(style=\"whitegrid\")\n",
    "\n",
    "# Create a separate plot for each prompt type\n",
    "for i, prompt in enumerate(prompt_types, 1):\n",
    "    plt.subplot(2, 2, i)\n",
    "    ax = sns.barplot(\n",
    "        data=df[df['prompt_type'] == prompt],\n",
    "        x='level',\n",
    "        y='is_correct',\n",
    "        hue='question_type',\n",
    "        errorbar=None,\n",
    "        estimator=lambda x: np.mean(x) * 100\n",
    "    )\n",
    "    plt.title(f'Prompt Type: {prompt}')\n",
    "    plt.xlabel('Level')\n",
    "    plt.ylabel('Percentage')\n",
    "    plt.legend(title='Question Type')\n",
    "\n",
    "    # Add percentage values above each bar\n",
    "    for i in range(6):\n",
    "        for j in range(2):\n",
    "            bar = ax.patches[i * 2 + j]\n",
    "            height = bar.get_height()\n",
    "            ax.annotate(f'{height:.1f}%', \n",
    "                        (bar.get_x() + bar.get_width() / 2., height), \n",
    "                        ha='center', va='bottom', \n",
    "                        fontsize=10, color='black', \n",
    "                        xytext=(0, 5), \n",
    "                        textcoords='offset points')\n",
    "        \n",
    "plt.suptitle('Percentage of generated questions correctly classified by BloomBERT with refining for each prompt type and question type', fontsize=20, y=1.02)\n",
    "plt.tight_layout()\n",
    "plt.show()"
   ]
  },
  {
   "cell_type": "markdown",
   "metadata": {},
   "source": [
    "### LLM as a Judge"
   ]
  },
  {
   "cell_type": "code",
   "execution_count": 36,
   "metadata": {},
   "outputs": [
    {
     "name": "stdout",
     "output_type": "stream",
     "text": [
      "{\n",
      "  \"question\": \"What is a key characteristic of artificial intelligence as described in the context?\",\n",
      "  \"choices\": {\n",
      "    \"A\": \"AI systems are only used for entertainment purposes.\",\n",
      "    \"B\": \"AI is primarily focused on replacing human jobs.\",\n",
      "    \"C\": \"AI involves machines perceiving their environment and learning to achieve goals.\",\n",
      "    \"D\": \"AI is exclusively used in military applications.\"\n",
      "  },\n",
      "  \"answer\": \"C\"\n",
      "}\n"
     ]
    }
   ],
   "source": [
    "# Teat MCQ question (no llm)\n",
    "question = bloom_generator.generate_question(chunks[0], question_type=\"MCQ\", level=2, prompt_type=\"desc\")\n",
    "print(json.dumps(question, indent=2))"
   ]
  },
  {
   "cell_type": "code",
   "execution_count": 37,
   "metadata": {},
   "outputs": [
    {
     "name": "stdout",
     "output_type": "stream",
     "text": [
      "True\n",
      "False\n"
     ]
    }
   ],
   "source": [
    "print(bloom_generator.check_answer_mcq(question, question['answer']))\n",
    "print(bloom_generator.check_answer_mcq(question, \"B\"))"
   ]
  },
  {
   "cell_type": "code",
   "execution_count": 38,
   "metadata": {},
   "outputs": [
    {
     "name": "stdout",
     "output_type": "stream",
     "text": [
      "{\n",
      "  \"question\": \"What is artificial intelligence and how do machines utilize it to achieve their goals?\",\n",
      "  \"correct_answer\": \"Artificial intelligence is intelligence exhibited by machines, particularly computer systems, enabling them to perceive their environment and use learning and intelligence to take actions that maximize their chances of achieving defined goals.\",\n",
      "  \"incorrect_answer\": \"Artificial intelligence is when computers are used for basic calculations and data storage without any learning or adaptation.\"\n",
      "}\n"
     ]
    }
   ],
   "source": [
    "question = bloom_generator.generate_question(chunks[0], question_type=\"SAQ\", level=2, prompt_type=\"desc\")\n",
    "print(json.dumps(question, indent=2))"
   ]
  },
  {
   "cell_type": "code",
   "execution_count": 39,
   "metadata": {},
   "outputs": [
    {
     "data": {
      "text/plain": [
       "(True,\n",
       " 'Your answer accurately describes artificial intelligence as the intelligence exhibited by machines and explains how they use learning and intelligence to achieve defined goals. Well done!')"
      ]
     },
     "execution_count": 39,
     "metadata": {},
     "output_type": "execute_result"
    }
   ],
   "source": [
    "bloom_generator.check_answer_saq(chunks[0], question['question'], question['correct_answer'])"
   ]
  },
  {
   "cell_type": "code",
   "execution_count": 40,
   "metadata": {},
   "outputs": [
    {
     "data": {
      "text/plain": [
       "(False,\n",
       " 'Your answer does not accurately describe artificial intelligence. AI involves machines that can learn, adapt, and make decisions to achieve specific goals, not just perform basic calculations or store data. Consider how AI systems use perception, learning, and intelligence to optimize their actions.')"
      ]
     },
     "execution_count": 40,
     "metadata": {},
     "output_type": "execute_result"
    }
   ],
   "source": [
    "bloom_generator.check_answer_saq(chunks[0], question['question'], question['incorrect_answer'])"
   ]
  },
  {
   "cell_type": "markdown",
   "metadata": {},
   "source": [
    "### Human validation"
   ]
  },
  {
   "cell_type": "code",
   "execution_count": 29,
   "metadata": {},
   "outputs": [
    {
     "data": {
      "application/vnd.jupyter.widget-view+json": {
       "model_id": "ebc095b8f516484e8f9cade27e544d7a",
       "version_major": 2,
       "version_minor": 0
      },
      "text/plain": [
       "Levels:   0%|          | 0/6 [00:00<?, ?it/s]"
      ]
     },
     "metadata": {},
     "output_type": "display_data"
    }
   ],
   "source": [
    "# Generate 12 SAQ questions, 2 for each level, evaluate them with BloomBERT and save the results in two csv files:\n",
    "# One with the results of the evaluation and one with only the questions\n",
    "\n",
    "levels = range(1, 7)\n",
    "\n",
    "data = []\n",
    "\n",
    "for level in tqdm(levels, desc=\"Levels\"):\n",
    "    for _ in range(2):\n",
    "        random_chunk = np.random.choice(chunks)\n",
    "        question = bloom_generator.generate_question(random_chunk, question_type=\"SAQ\", level=level, prompt_type=\"desc\")\n",
    "        predicted_level, _ = bloom_generator.evaluate_question(question['question'], level)\n",
    "        data.append([question['question'], random_chunk, level, predicted_level, question['correct_answer'], question['incorrect_answer']])\n",
    "\n",
    "df = pd.DataFrame(data, columns=['question', 'chunk', 'level', 'predicted_level', 'correct_answer', 'incorrect_answer'])\n",
    "        "
   ]
  },
  {
   "cell_type": "code",
   "execution_count": 30,
   "metadata": {},
   "outputs": [
    {
     "data": {
      "text/html": [
       "<div>\n",
       "<style scoped>\n",
       "    .dataframe tbody tr th:only-of-type {\n",
       "        vertical-align: middle;\n",
       "    }\n",
       "\n",
       "    .dataframe tbody tr th {\n",
       "        vertical-align: top;\n",
       "    }\n",
       "\n",
       "    .dataframe thead th {\n",
       "        text-align: right;\n",
       "    }\n",
       "</style>\n",
       "<table border=\"1\" class=\"dataframe\">\n",
       "  <thead>\n",
       "    <tr style=\"text-align: right;\">\n",
       "      <th></th>\n",
       "      <th>question</th>\n",
       "      <th>chunk</th>\n",
       "      <th>level</th>\n",
       "      <th>predicted_level</th>\n",
       "      <th>correct_answer</th>\n",
       "      <th>incorrect_answer</th>\n",
       "    </tr>\n",
       "  </thead>\n",
       "  <tbody>\n",
       "    <tr>\n",
       "      <th>0</th>\n",
       "      <td>What is a knowledge base in the context of art...</td>\n",
       "      <td>Knowledge representation and knowledge enginee...</td>\n",
       "      <td>1</td>\n",
       "      <td>1</td>\n",
       "      <td>A knowledge base is a body of knowledge repres...</td>\n",
       "      <td>A knowledge base is a database that stores inf...</td>\n",
       "    </tr>\n",
       "    <tr>\n",
       "      <th>1</th>\n",
       "      <td>What is a lethal autonomous weapon?</td>\n",
       "      <td>Artificial intelligence provides a number of t...</td>\n",
       "      <td>1</td>\n",
       "      <td>1</td>\n",
       "      <td>A lethal autonomous weapon is a machine that l...</td>\n",
       "      <td>A lethal autonomous weapon is a machine that i...</td>\n",
       "    </tr>\n",
       "    <tr>\n",
       "      <th>2</th>\n",
       "      <td>What are some of the techniques AI developers ...</td>\n",
       "      <td>AI developers argue that this is the only way ...</td>\n",
       "      <td>2</td>\n",
       "      <td>2</td>\n",
       "      <td>AI developers use techniques such as data aggr...</td>\n",
       "      <td>AI developers use techniques such as data encr...</td>\n",
       "    </tr>\n",
       "    <tr>\n",
       "      <th>3</th>\n",
       "      <td>What does it mean when a system or organizatio...</td>\n",
       "      <td>==== Lack of transparency ====</td>\n",
       "      <td>2</td>\n",
       "      <td>2</td>\n",
       "      <td>It means that the actions, decisions, or proce...</td>\n",
       "      <td>It means that the system or organization is ph...</td>\n",
       "    </tr>\n",
       "    <tr>\n",
       "      <th>4</th>\n",
       "      <td>Imagine you are the head of a large technology...</td>\n",
       "      <td>Prodigious power consumption by AI is responsi...</td>\n",
       "      <td>3</td>\n",
       "      <td>6</td>\n",
       "      <td>Strategies could include investing in renewabl...</td>\n",
       "      <td>Strategies could include increasing the use of...</td>\n",
       "    </tr>\n",
       "    <tr>\n",
       "      <th>5</th>\n",
       "      <td>Imagine you are the owner of a website and you...</td>\n",
       "      <td>Generative AI is often trained on unlicensed c...</td>\n",
       "      <td>3</td>\n",
       "      <td>3</td>\n",
       "      <td>I could indicate my wishes not to have my cont...</td>\n",
       "      <td>I could sue the AI companies for using my work.</td>\n",
       "    </tr>\n",
       "    <tr>\n",
       "      <th>6</th>\n",
       "      <td>How might the demographic makeup of AI enginee...</td>\n",
       "      <td>Criticism of COMPAS highlighted that machine l...</td>\n",
       "      <td>4</td>\n",
       "      <td>4</td>\n",
       "      <td>The demographic makeup of AI engineers, being ...</td>\n",
       "      <td>The demographic makeup of AI engineers has no ...</td>\n",
       "    </tr>\n",
       "    <tr>\n",
       "      <th>7</th>\n",
       "      <td>Compare and contrast the processes of automate...</td>\n",
       "      <td>=== Planning and decision-making ===\\nAn \"agen...</td>\n",
       "      <td>4</td>\n",
       "      <td>4</td>\n",
       "      <td>In automated planning, a rational agent has a ...</td>\n",
       "      <td>In both automated planning and decision-making...</td>\n",
       "    </tr>\n",
       "    <tr>\n",
       "      <th>8</th>\n",
       "      <td>Based on the various definitions of intelligen...</td>\n",
       "      <td>Russell and Norvig agree with Turing that inte...</td>\n",
       "      <td>5</td>\n",
       "      <td>4</td>\n",
       "      <td>Strengths might include that it focuses on pra...</td>\n",
       "      <td>Strengths include that it requires the machine...</td>\n",
       "    </tr>\n",
       "    <tr>\n",
       "      <th>9</th>\n",
       "      <td>Based on the ethical principles outlined and t...</td>\n",
       "      <td>Respect the dignity of individual people\\nConn...</td>\n",
       "      <td>5</td>\n",
       "      <td>5</td>\n",
       "      <td>The effectiveness of the 'Inspect' toolset can...</td>\n",
       "      <td>The 'Inspect' toolset's effectiveness can be e...</td>\n",
       "    </tr>\n",
       "    <tr>\n",
       "      <th>10</th>\n",
       "      <td>Design an original product or service that cou...</td>\n",
       "      <td>==== Technological unemployment ====</td>\n",
       "      <td>6</td>\n",
       "      <td>6</td>\n",
       "      <td>A digital platform that connects displaced wor...</td>\n",
       "      <td>A smartphone application that allows users to ...</td>\n",
       "    </tr>\n",
       "    <tr>\n",
       "      <th>11</th>\n",
       "      <td>Imagine you are tasked with developing a new A...</td>\n",
       "      <td>Alternatively, dedicated models for mathematic...</td>\n",
       "      <td>6</td>\n",
       "      <td>6</td>\n",
       "      <td>I would start by studying the strengths and we...</td>\n",
       "      <td>I would just combine all the existing models i...</td>\n",
       "    </tr>\n",
       "  </tbody>\n",
       "</table>\n",
       "</div>"
      ],
      "text/plain": [
       "                                             question  \\\n",
       "0   What is a knowledge base in the context of art...   \n",
       "1                 What is a lethal autonomous weapon?   \n",
       "2   What are some of the techniques AI developers ...   \n",
       "3   What does it mean when a system or organizatio...   \n",
       "4   Imagine you are the head of a large technology...   \n",
       "5   Imagine you are the owner of a website and you...   \n",
       "6   How might the demographic makeup of AI enginee...   \n",
       "7   Compare and contrast the processes of automate...   \n",
       "8   Based on the various definitions of intelligen...   \n",
       "9   Based on the ethical principles outlined and t...   \n",
       "10  Design an original product or service that cou...   \n",
       "11  Imagine you are tasked with developing a new A...   \n",
       "\n",
       "                                                chunk  level  predicted_level  \\\n",
       "0   Knowledge representation and knowledge enginee...      1                1   \n",
       "1   Artificial intelligence provides a number of t...      1                1   \n",
       "2   AI developers argue that this is the only way ...      2                2   \n",
       "3                      ==== Lack of transparency ====      2                2   \n",
       "4   Prodigious power consumption by AI is responsi...      3                6   \n",
       "5   Generative AI is often trained on unlicensed c...      3                3   \n",
       "6   Criticism of COMPAS highlighted that machine l...      4                4   \n",
       "7   === Planning and decision-making ===\\nAn \"agen...      4                4   \n",
       "8   Russell and Norvig agree with Turing that inte...      5                4   \n",
       "9   Respect the dignity of individual people\\nConn...      5                5   \n",
       "10               ==== Technological unemployment ====      6                6   \n",
       "11  Alternatively, dedicated models for mathematic...      6                6   \n",
       "\n",
       "                                       correct_answer  \\\n",
       "0   A knowledge base is a body of knowledge repres...   \n",
       "1   A lethal autonomous weapon is a machine that l...   \n",
       "2   AI developers use techniques such as data aggr...   \n",
       "3   It means that the actions, decisions, or proce...   \n",
       "4   Strategies could include investing in renewabl...   \n",
       "5   I could indicate my wishes not to have my cont...   \n",
       "6   The demographic makeup of AI engineers, being ...   \n",
       "7   In automated planning, a rational agent has a ...   \n",
       "8   Strengths might include that it focuses on pra...   \n",
       "9   The effectiveness of the 'Inspect' toolset can...   \n",
       "10  A digital platform that connects displaced wor...   \n",
       "11  I would start by studying the strengths and we...   \n",
       "\n",
       "                                     incorrect_answer  \n",
       "0   A knowledge base is a database that stores inf...  \n",
       "1   A lethal autonomous weapon is a machine that i...  \n",
       "2   AI developers use techniques such as data encr...  \n",
       "3   It means that the system or organization is ph...  \n",
       "4   Strategies could include increasing the use of...  \n",
       "5     I could sue the AI companies for using my work.  \n",
       "6   The demographic makeup of AI engineers has no ...  \n",
       "7   In both automated planning and decision-making...  \n",
       "8   Strengths include that it requires the machine...  \n",
       "9   The 'Inspect' toolset's effectiveness can be e...  \n",
       "10  A smartphone application that allows users to ...  \n",
       "11  I would just combine all the existing models i...  "
      ]
     },
     "execution_count": 30,
     "metadata": {},
     "output_type": "execute_result"
    }
   ],
   "source": [
    "df"
   ]
  },
  {
   "cell_type": "code",
   "execution_count": 31,
   "metadata": {},
   "outputs": [
    {
     "data": {
      "text/html": [
       "<div>\n",
       "<style scoped>\n",
       "    .dataframe tbody tr th:only-of-type {\n",
       "        vertical-align: middle;\n",
       "    }\n",
       "\n",
       "    .dataframe tbody tr th {\n",
       "        vertical-align: top;\n",
       "    }\n",
       "\n",
       "    .dataframe thead th {\n",
       "        text-align: right;\n",
       "    }\n",
       "</style>\n",
       "<table border=\"1\" class=\"dataframe\">\n",
       "  <thead>\n",
       "    <tr style=\"text-align: right;\">\n",
       "      <th></th>\n",
       "      <th>question</th>\n",
       "      <th>chunk</th>\n",
       "      <th>level</th>\n",
       "      <th>predicted_level</th>\n",
       "      <th>correct_answer</th>\n",
       "      <th>incorrect_answer</th>\n",
       "    </tr>\n",
       "  </thead>\n",
       "  <tbody>\n",
       "    <tr>\n",
       "      <th>0</th>\n",
       "      <td>Compare and contrast the processes of automate...</td>\n",
       "      <td>=== Planning and decision-making ===\\nAn \"agen...</td>\n",
       "      <td>4</td>\n",
       "      <td>4</td>\n",
       "      <td>In automated planning, a rational agent has a ...</td>\n",
       "      <td>In both automated planning and decision-making...</td>\n",
       "    </tr>\n",
       "    <tr>\n",
       "      <th>1</th>\n",
       "      <td>Imagine you are tasked with developing a new A...</td>\n",
       "      <td>Alternatively, dedicated models for mathematic...</td>\n",
       "      <td>6</td>\n",
       "      <td>6</td>\n",
       "      <td>I would start by studying the strengths and we...</td>\n",
       "      <td>I would just combine all the existing models i...</td>\n",
       "    </tr>\n",
       "    <tr>\n",
       "      <th>2</th>\n",
       "      <td>What are some of the techniques AI developers ...</td>\n",
       "      <td>AI developers argue that this is the only way ...</td>\n",
       "      <td>2</td>\n",
       "      <td>2</td>\n",
       "      <td>AI developers use techniques such as data aggr...</td>\n",
       "      <td>AI developers use techniques such as data encr...</td>\n",
       "    </tr>\n",
       "    <tr>\n",
       "      <th>3</th>\n",
       "      <td>How might the demographic makeup of AI enginee...</td>\n",
       "      <td>Criticism of COMPAS highlighted that machine l...</td>\n",
       "      <td>4</td>\n",
       "      <td>4</td>\n",
       "      <td>The demographic makeup of AI engineers, being ...</td>\n",
       "      <td>The demographic makeup of AI engineers has no ...</td>\n",
       "    </tr>\n",
       "    <tr>\n",
       "      <th>4</th>\n",
       "      <td>What is a lethal autonomous weapon?</td>\n",
       "      <td>Artificial intelligence provides a number of t...</td>\n",
       "      <td>1</td>\n",
       "      <td>1</td>\n",
       "      <td>A lethal autonomous weapon is a machine that l...</td>\n",
       "      <td>A lethal autonomous weapon is a machine that i...</td>\n",
       "    </tr>\n",
       "    <tr>\n",
       "      <th>5</th>\n",
       "      <td>What does it mean when a system or organizatio...</td>\n",
       "      <td>==== Lack of transparency ====</td>\n",
       "      <td>2</td>\n",
       "      <td>2</td>\n",
       "      <td>It means that the actions, decisions, or proce...</td>\n",
       "      <td>It means that the system or organization is ph...</td>\n",
       "    </tr>\n",
       "    <tr>\n",
       "      <th>6</th>\n",
       "      <td>Based on the various definitions of intelligen...</td>\n",
       "      <td>Russell and Norvig agree with Turing that inte...</td>\n",
       "      <td>5</td>\n",
       "      <td>4</td>\n",
       "      <td>Strengths might include that it focuses on pra...</td>\n",
       "      <td>Strengths include that it requires the machine...</td>\n",
       "    </tr>\n",
       "    <tr>\n",
       "      <th>7</th>\n",
       "      <td>Imagine you are the head of a large technology...</td>\n",
       "      <td>Prodigious power consumption by AI is responsi...</td>\n",
       "      <td>3</td>\n",
       "      <td>6</td>\n",
       "      <td>Strategies could include investing in renewabl...</td>\n",
       "      <td>Strategies could include increasing the use of...</td>\n",
       "    </tr>\n",
       "    <tr>\n",
       "      <th>8</th>\n",
       "      <td>What is a knowledge base in the context of art...</td>\n",
       "      <td>Knowledge representation and knowledge enginee...</td>\n",
       "      <td>1</td>\n",
       "      <td>1</td>\n",
       "      <td>A knowledge base is a body of knowledge repres...</td>\n",
       "      <td>A knowledge base is a database that stores inf...</td>\n",
       "    </tr>\n",
       "    <tr>\n",
       "      <th>9</th>\n",
       "      <td>Based on the ethical principles outlined and t...</td>\n",
       "      <td>Respect the dignity of individual people\\nConn...</td>\n",
       "      <td>5</td>\n",
       "      <td>5</td>\n",
       "      <td>The effectiveness of the 'Inspect' toolset can...</td>\n",
       "      <td>The 'Inspect' toolset's effectiveness can be e...</td>\n",
       "    </tr>\n",
       "    <tr>\n",
       "      <th>10</th>\n",
       "      <td>Imagine you are the owner of a website and you...</td>\n",
       "      <td>Generative AI is often trained on unlicensed c...</td>\n",
       "      <td>3</td>\n",
       "      <td>3</td>\n",
       "      <td>I could indicate my wishes not to have my cont...</td>\n",
       "      <td>I could sue the AI companies for using my work.</td>\n",
       "    </tr>\n",
       "    <tr>\n",
       "      <th>11</th>\n",
       "      <td>Design an original product or service that cou...</td>\n",
       "      <td>==== Technological unemployment ====</td>\n",
       "      <td>6</td>\n",
       "      <td>6</td>\n",
       "      <td>A digital platform that connects displaced wor...</td>\n",
       "      <td>A smartphone application that allows users to ...</td>\n",
       "    </tr>\n",
       "  </tbody>\n",
       "</table>\n",
       "</div>"
      ],
      "text/plain": [
       "                                             question  \\\n",
       "0   Compare and contrast the processes of automate...   \n",
       "1   Imagine you are tasked with developing a new A...   \n",
       "2   What are some of the techniques AI developers ...   \n",
       "3   How might the demographic makeup of AI enginee...   \n",
       "4                 What is a lethal autonomous weapon?   \n",
       "5   What does it mean when a system or organizatio...   \n",
       "6   Based on the various definitions of intelligen...   \n",
       "7   Imagine you are the head of a large technology...   \n",
       "8   What is a knowledge base in the context of art...   \n",
       "9   Based on the ethical principles outlined and t...   \n",
       "10  Imagine you are the owner of a website and you...   \n",
       "11  Design an original product or service that cou...   \n",
       "\n",
       "                                                chunk  level  predicted_level  \\\n",
       "0   === Planning and decision-making ===\\nAn \"agen...      4                4   \n",
       "1   Alternatively, dedicated models for mathematic...      6                6   \n",
       "2   AI developers argue that this is the only way ...      2                2   \n",
       "3   Criticism of COMPAS highlighted that machine l...      4                4   \n",
       "4   Artificial intelligence provides a number of t...      1                1   \n",
       "5                      ==== Lack of transparency ====      2                2   \n",
       "6   Russell and Norvig agree with Turing that inte...      5                4   \n",
       "7   Prodigious power consumption by AI is responsi...      3                6   \n",
       "8   Knowledge representation and knowledge enginee...      1                1   \n",
       "9   Respect the dignity of individual people\\nConn...      5                5   \n",
       "10  Generative AI is often trained on unlicensed c...      3                3   \n",
       "11               ==== Technological unemployment ====      6                6   \n",
       "\n",
       "                                       correct_answer  \\\n",
       "0   In automated planning, a rational agent has a ...   \n",
       "1   I would start by studying the strengths and we...   \n",
       "2   AI developers use techniques such as data aggr...   \n",
       "3   The demographic makeup of AI engineers, being ...   \n",
       "4   A lethal autonomous weapon is a machine that l...   \n",
       "5   It means that the actions, decisions, or proce...   \n",
       "6   Strengths might include that it focuses on pra...   \n",
       "7   Strategies could include investing in renewabl...   \n",
       "8   A knowledge base is a body of knowledge repres...   \n",
       "9   The effectiveness of the 'Inspect' toolset can...   \n",
       "10  I could indicate my wishes not to have my cont...   \n",
       "11  A digital platform that connects displaced wor...   \n",
       "\n",
       "                                     incorrect_answer  \n",
       "0   In both automated planning and decision-making...  \n",
       "1   I would just combine all the existing models i...  \n",
       "2   AI developers use techniques such as data encr...  \n",
       "3   The demographic makeup of AI engineers has no ...  \n",
       "4   A lethal autonomous weapon is a machine that i...  \n",
       "5   It means that the system or organization is ph...  \n",
       "6   Strengths include that it requires the machine...  \n",
       "7   Strategies could include increasing the use of...  \n",
       "8   A knowledge base is a database that stores inf...  \n",
       "9   The 'Inspect' toolset's effectiveness can be e...  \n",
       "10    I could sue the AI companies for using my work.  \n",
       "11  A smartphone application that allows users to ...  "
      ]
     },
     "execution_count": 31,
     "metadata": {},
     "output_type": "execute_result"
    }
   ],
   "source": [
    "# shuffle the rows of the DataFrame\n",
    "df = df.sample(frac=1).reset_index(drop=True)\n",
    "df"
   ]
  },
  {
   "cell_type": "code",
   "execution_count": 32,
   "metadata": {},
   "outputs": [
    {
     "data": {
      "text/html": [
       "<div>\n",
       "<style scoped>\n",
       "    .dataframe tbody tr th:only-of-type {\n",
       "        vertical-align: middle;\n",
       "    }\n",
       "\n",
       "    .dataframe tbody tr th {\n",
       "        vertical-align: top;\n",
       "    }\n",
       "\n",
       "    .dataframe thead th {\n",
       "        text-align: right;\n",
       "    }\n",
       "</style>\n",
       "<table border=\"1\" class=\"dataframe\">\n",
       "  <thead>\n",
       "    <tr style=\"text-align: right;\">\n",
       "      <th></th>\n",
       "      <th>question</th>\n",
       "      <th>chunk</th>\n",
       "      <th>level</th>\n",
       "      <th>predicted_level</th>\n",
       "      <th>correct_answer</th>\n",
       "      <th>incorrect_answer</th>\n",
       "      <th>random_answer</th>\n",
       "    </tr>\n",
       "  </thead>\n",
       "  <tbody>\n",
       "    <tr>\n",
       "      <th>0</th>\n",
       "      <td>Compare and contrast the processes of automate...</td>\n",
       "      <td>=== Planning and decision-making ===\\nAn \"agen...</td>\n",
       "      <td>4</td>\n",
       "      <td>4</td>\n",
       "      <td>In automated planning, a rational agent has a ...</td>\n",
       "      <td>In both automated planning and decision-making...</td>\n",
       "      <td>In automated planning, a rational agent has a ...</td>\n",
       "    </tr>\n",
       "    <tr>\n",
       "      <th>1</th>\n",
       "      <td>Imagine you are tasked with developing a new A...</td>\n",
       "      <td>Alternatively, dedicated models for mathematic...</td>\n",
       "      <td>6</td>\n",
       "      <td>6</td>\n",
       "      <td>I would start by studying the strengths and we...</td>\n",
       "      <td>I would just combine all the existing models i...</td>\n",
       "      <td>I would just combine all the existing models i...</td>\n",
       "    </tr>\n",
       "    <tr>\n",
       "      <th>2</th>\n",
       "      <td>What are some of the techniques AI developers ...</td>\n",
       "      <td>AI developers argue that this is the only way ...</td>\n",
       "      <td>2</td>\n",
       "      <td>2</td>\n",
       "      <td>AI developers use techniques such as data aggr...</td>\n",
       "      <td>AI developers use techniques such as data encr...</td>\n",
       "      <td>AI developers use techniques such as data encr...</td>\n",
       "    </tr>\n",
       "    <tr>\n",
       "      <th>3</th>\n",
       "      <td>How might the demographic makeup of AI enginee...</td>\n",
       "      <td>Criticism of COMPAS highlighted that machine l...</td>\n",
       "      <td>4</td>\n",
       "      <td>4</td>\n",
       "      <td>The demographic makeup of AI engineers, being ...</td>\n",
       "      <td>The demographic makeup of AI engineers has no ...</td>\n",
       "      <td>The demographic makeup of AI engineers, being ...</td>\n",
       "    </tr>\n",
       "    <tr>\n",
       "      <th>4</th>\n",
       "      <td>What is a lethal autonomous weapon?</td>\n",
       "      <td>Artificial intelligence provides a number of t...</td>\n",
       "      <td>1</td>\n",
       "      <td>1</td>\n",
       "      <td>A lethal autonomous weapon is a machine that l...</td>\n",
       "      <td>A lethal autonomous weapon is a machine that i...</td>\n",
       "      <td>A lethal autonomous weapon is a machine that l...</td>\n",
       "    </tr>\n",
       "    <tr>\n",
       "      <th>5</th>\n",
       "      <td>What does it mean when a system or organizatio...</td>\n",
       "      <td>==== Lack of transparency ====</td>\n",
       "      <td>2</td>\n",
       "      <td>2</td>\n",
       "      <td>It means that the actions, decisions, or proce...</td>\n",
       "      <td>It means that the system or organization is ph...</td>\n",
       "      <td>It means that the system or organization is ph...</td>\n",
       "    </tr>\n",
       "    <tr>\n",
       "      <th>6</th>\n",
       "      <td>Based on the various definitions of intelligen...</td>\n",
       "      <td>Russell and Norvig agree with Turing that inte...</td>\n",
       "      <td>5</td>\n",
       "      <td>4</td>\n",
       "      <td>Strengths might include that it focuses on pra...</td>\n",
       "      <td>Strengths include that it requires the machine...</td>\n",
       "      <td>Strengths include that it requires the machine...</td>\n",
       "    </tr>\n",
       "    <tr>\n",
       "      <th>7</th>\n",
       "      <td>Imagine you are the head of a large technology...</td>\n",
       "      <td>Prodigious power consumption by AI is responsi...</td>\n",
       "      <td>3</td>\n",
       "      <td>6</td>\n",
       "      <td>Strategies could include investing in renewabl...</td>\n",
       "      <td>Strategies could include increasing the use of...</td>\n",
       "      <td>Strategies could include increasing the use of...</td>\n",
       "    </tr>\n",
       "    <tr>\n",
       "      <th>8</th>\n",
       "      <td>What is a knowledge base in the context of art...</td>\n",
       "      <td>Knowledge representation and knowledge enginee...</td>\n",
       "      <td>1</td>\n",
       "      <td>1</td>\n",
       "      <td>A knowledge base is a body of knowledge repres...</td>\n",
       "      <td>A knowledge base is a database that stores inf...</td>\n",
       "      <td>A knowledge base is a database that stores inf...</td>\n",
       "    </tr>\n",
       "    <tr>\n",
       "      <th>9</th>\n",
       "      <td>Based on the ethical principles outlined and t...</td>\n",
       "      <td>Respect the dignity of individual people\\nConn...</td>\n",
       "      <td>5</td>\n",
       "      <td>5</td>\n",
       "      <td>The effectiveness of the 'Inspect' toolset can...</td>\n",
       "      <td>The 'Inspect' toolset's effectiveness can be e...</td>\n",
       "      <td>The effectiveness of the 'Inspect' toolset can...</td>\n",
       "    </tr>\n",
       "    <tr>\n",
       "      <th>10</th>\n",
       "      <td>Imagine you are the owner of a website and you...</td>\n",
       "      <td>Generative AI is often trained on unlicensed c...</td>\n",
       "      <td>3</td>\n",
       "      <td>3</td>\n",
       "      <td>I could indicate my wishes not to have my cont...</td>\n",
       "      <td>I could sue the AI companies for using my work.</td>\n",
       "      <td>I could indicate my wishes not to have my cont...</td>\n",
       "    </tr>\n",
       "    <tr>\n",
       "      <th>11</th>\n",
       "      <td>Design an original product or service that cou...</td>\n",
       "      <td>==== Technological unemployment ====</td>\n",
       "      <td>6</td>\n",
       "      <td>6</td>\n",
       "      <td>A digital platform that connects displaced wor...</td>\n",
       "      <td>A smartphone application that allows users to ...</td>\n",
       "      <td>A smartphone application that allows users to ...</td>\n",
       "    </tr>\n",
       "  </tbody>\n",
       "</table>\n",
       "</div>"
      ],
      "text/plain": [
       "                                             question  \\\n",
       "0   Compare and contrast the processes of automate...   \n",
       "1   Imagine you are tasked with developing a new A...   \n",
       "2   What are some of the techniques AI developers ...   \n",
       "3   How might the demographic makeup of AI enginee...   \n",
       "4                 What is a lethal autonomous weapon?   \n",
       "5   What does it mean when a system or organizatio...   \n",
       "6   Based on the various definitions of intelligen...   \n",
       "7   Imagine you are the head of a large technology...   \n",
       "8   What is a knowledge base in the context of art...   \n",
       "9   Based on the ethical principles outlined and t...   \n",
       "10  Imagine you are the owner of a website and you...   \n",
       "11  Design an original product or service that cou...   \n",
       "\n",
       "                                                chunk  level  predicted_level  \\\n",
       "0   === Planning and decision-making ===\\nAn \"agen...      4                4   \n",
       "1   Alternatively, dedicated models for mathematic...      6                6   \n",
       "2   AI developers argue that this is the only way ...      2                2   \n",
       "3   Criticism of COMPAS highlighted that machine l...      4                4   \n",
       "4   Artificial intelligence provides a number of t...      1                1   \n",
       "5                      ==== Lack of transparency ====      2                2   \n",
       "6   Russell and Norvig agree with Turing that inte...      5                4   \n",
       "7   Prodigious power consumption by AI is responsi...      3                6   \n",
       "8   Knowledge representation and knowledge enginee...      1                1   \n",
       "9   Respect the dignity of individual people\\nConn...      5                5   \n",
       "10  Generative AI is often trained on unlicensed c...      3                3   \n",
       "11               ==== Technological unemployment ====      6                6   \n",
       "\n",
       "                                       correct_answer  \\\n",
       "0   In automated planning, a rational agent has a ...   \n",
       "1   I would start by studying the strengths and we...   \n",
       "2   AI developers use techniques such as data aggr...   \n",
       "3   The demographic makeup of AI engineers, being ...   \n",
       "4   A lethal autonomous weapon is a machine that l...   \n",
       "5   It means that the actions, decisions, or proce...   \n",
       "6   Strengths might include that it focuses on pra...   \n",
       "7   Strategies could include investing in renewabl...   \n",
       "8   A knowledge base is a body of knowledge repres...   \n",
       "9   The effectiveness of the 'Inspect' toolset can...   \n",
       "10  I could indicate my wishes not to have my cont...   \n",
       "11  A digital platform that connects displaced wor...   \n",
       "\n",
       "                                     incorrect_answer  \\\n",
       "0   In both automated planning and decision-making...   \n",
       "1   I would just combine all the existing models i...   \n",
       "2   AI developers use techniques such as data encr...   \n",
       "3   The demographic makeup of AI engineers has no ...   \n",
       "4   A lethal autonomous weapon is a machine that i...   \n",
       "5   It means that the system or organization is ph...   \n",
       "6   Strengths include that it requires the machine...   \n",
       "7   Strategies could include increasing the use of...   \n",
       "8   A knowledge base is a database that stores inf...   \n",
       "9   The 'Inspect' toolset's effectiveness can be e...   \n",
       "10    I could sue the AI companies for using my work.   \n",
       "11  A smartphone application that allows users to ...   \n",
       "\n",
       "                                        random_answer  \n",
       "0   In automated planning, a rational agent has a ...  \n",
       "1   I would just combine all the existing models i...  \n",
       "2   AI developers use techniques such as data encr...  \n",
       "3   The demographic makeup of AI engineers, being ...  \n",
       "4   A lethal autonomous weapon is a machine that l...  \n",
       "5   It means that the system or organization is ph...  \n",
       "6   Strengths include that it requires the machine...  \n",
       "7   Strategies could include increasing the use of...  \n",
       "8   A knowledge base is a database that stores inf...  \n",
       "9   The effectiveness of the 'Inspect' toolset can...  \n",
       "10  I could indicate my wishes not to have my cont...  \n",
       "11  A smartphone application that allows users to ...  "
      ]
     },
     "execution_count": 32,
     "metadata": {},
     "output_type": "execute_result"
    }
   ],
   "source": [
    "# Create a column \"random_answer\" with randomly either the correct answer or the incorrect answer\n",
    "df['random_answer'] = df.apply(lambda x: x['correct_answer'] if np.random.rand() < 0.5 else x['incorrect_answer'], axis=1)\n",
    "df"
   ]
  },
  {
   "cell_type": "code",
   "execution_count": 33,
   "metadata": {},
   "outputs": [],
   "source": [
    "# Save the whole DataFrame to a csv file\n",
    "df.to_csv('SAQ_questions_labels_v2.csv', index=False)"
   ]
  },
  {
   "cell_type": "code",
   "execution_count": 34,
   "metadata": {},
   "outputs": [
    {
     "data": {
      "text/html": [
       "<div>\n",
       "<style scoped>\n",
       "    .dataframe tbody tr th:only-of-type {\n",
       "        vertical-align: middle;\n",
       "    }\n",
       "\n",
       "    .dataframe tbody tr th {\n",
       "        vertical-align: top;\n",
       "    }\n",
       "\n",
       "    .dataframe thead th {\n",
       "        text-align: right;\n",
       "    }\n",
       "</style>\n",
       "<table border=\"1\" class=\"dataframe\">\n",
       "  <thead>\n",
       "    <tr style=\"text-align: right;\">\n",
       "      <th></th>\n",
       "      <th>question</th>\n",
       "      <th>chunk</th>\n",
       "      <th>random_answer</th>\n",
       "      <th>level</th>\n",
       "      <th>is_correct</th>\n",
       "    </tr>\n",
       "  </thead>\n",
       "  <tbody>\n",
       "    <tr>\n",
       "      <th>0</th>\n",
       "      <td>Compare and contrast the processes of automate...</td>\n",
       "      <td>=== Planning and decision-making ===\\nAn \"agen...</td>\n",
       "      <td>In automated planning, a rational agent has a ...</td>\n",
       "      <td>NaN</td>\n",
       "      <td>NaN</td>\n",
       "    </tr>\n",
       "    <tr>\n",
       "      <th>1</th>\n",
       "      <td>Imagine you are tasked with developing a new A...</td>\n",
       "      <td>Alternatively, dedicated models for mathematic...</td>\n",
       "      <td>I would just combine all the existing models i...</td>\n",
       "      <td>NaN</td>\n",
       "      <td>NaN</td>\n",
       "    </tr>\n",
       "    <tr>\n",
       "      <th>2</th>\n",
       "      <td>What are some of the techniques AI developers ...</td>\n",
       "      <td>AI developers argue that this is the only way ...</td>\n",
       "      <td>AI developers use techniques such as data encr...</td>\n",
       "      <td>NaN</td>\n",
       "      <td>NaN</td>\n",
       "    </tr>\n",
       "    <tr>\n",
       "      <th>3</th>\n",
       "      <td>How might the demographic makeup of AI enginee...</td>\n",
       "      <td>Criticism of COMPAS highlighted that machine l...</td>\n",
       "      <td>The demographic makeup of AI engineers, being ...</td>\n",
       "      <td>NaN</td>\n",
       "      <td>NaN</td>\n",
       "    </tr>\n",
       "    <tr>\n",
       "      <th>4</th>\n",
       "      <td>What is a lethal autonomous weapon?</td>\n",
       "      <td>Artificial intelligence provides a number of t...</td>\n",
       "      <td>A lethal autonomous weapon is a machine that l...</td>\n",
       "      <td>NaN</td>\n",
       "      <td>NaN</td>\n",
       "    </tr>\n",
       "    <tr>\n",
       "      <th>5</th>\n",
       "      <td>What does it mean when a system or organizatio...</td>\n",
       "      <td>==== Lack of transparency ====</td>\n",
       "      <td>It means that the system or organization is ph...</td>\n",
       "      <td>NaN</td>\n",
       "      <td>NaN</td>\n",
       "    </tr>\n",
       "    <tr>\n",
       "      <th>6</th>\n",
       "      <td>Based on the various definitions of intelligen...</td>\n",
       "      <td>Russell and Norvig agree with Turing that inte...</td>\n",
       "      <td>Strengths include that it requires the machine...</td>\n",
       "      <td>NaN</td>\n",
       "      <td>NaN</td>\n",
       "    </tr>\n",
       "    <tr>\n",
       "      <th>7</th>\n",
       "      <td>Imagine you are the head of a large technology...</td>\n",
       "      <td>Prodigious power consumption by AI is responsi...</td>\n",
       "      <td>Strategies could include increasing the use of...</td>\n",
       "      <td>NaN</td>\n",
       "      <td>NaN</td>\n",
       "    </tr>\n",
       "    <tr>\n",
       "      <th>8</th>\n",
       "      <td>What is a knowledge base in the context of art...</td>\n",
       "      <td>Knowledge representation and knowledge enginee...</td>\n",
       "      <td>A knowledge base is a database that stores inf...</td>\n",
       "      <td>NaN</td>\n",
       "      <td>NaN</td>\n",
       "    </tr>\n",
       "    <tr>\n",
       "      <th>9</th>\n",
       "      <td>Based on the ethical principles outlined and t...</td>\n",
       "      <td>Respect the dignity of individual people\\nConn...</td>\n",
       "      <td>The effectiveness of the 'Inspect' toolset can...</td>\n",
       "      <td>NaN</td>\n",
       "      <td>NaN</td>\n",
       "    </tr>\n",
       "    <tr>\n",
       "      <th>10</th>\n",
       "      <td>Imagine you are the owner of a website and you...</td>\n",
       "      <td>Generative AI is often trained on unlicensed c...</td>\n",
       "      <td>I could indicate my wishes not to have my cont...</td>\n",
       "      <td>NaN</td>\n",
       "      <td>NaN</td>\n",
       "    </tr>\n",
       "    <tr>\n",
       "      <th>11</th>\n",
       "      <td>Design an original product or service that cou...</td>\n",
       "      <td>==== Technological unemployment ====</td>\n",
       "      <td>A smartphone application that allows users to ...</td>\n",
       "      <td>NaN</td>\n",
       "      <td>NaN</td>\n",
       "    </tr>\n",
       "  </tbody>\n",
       "</table>\n",
       "</div>"
      ],
      "text/plain": [
       "                                             question  \\\n",
       "0   Compare and contrast the processes of automate...   \n",
       "1   Imagine you are tasked with developing a new A...   \n",
       "2   What are some of the techniques AI developers ...   \n",
       "3   How might the demographic makeup of AI enginee...   \n",
       "4                 What is a lethal autonomous weapon?   \n",
       "5   What does it mean when a system or organizatio...   \n",
       "6   Based on the various definitions of intelligen...   \n",
       "7   Imagine you are the head of a large technology...   \n",
       "8   What is a knowledge base in the context of art...   \n",
       "9   Based on the ethical principles outlined and t...   \n",
       "10  Imagine you are the owner of a website and you...   \n",
       "11  Design an original product or service that cou...   \n",
       "\n",
       "                                                chunk  \\\n",
       "0   === Planning and decision-making ===\\nAn \"agen...   \n",
       "1   Alternatively, dedicated models for mathematic...   \n",
       "2   AI developers argue that this is the only way ...   \n",
       "3   Criticism of COMPAS highlighted that machine l...   \n",
       "4   Artificial intelligence provides a number of t...   \n",
       "5                      ==== Lack of transparency ====   \n",
       "6   Russell and Norvig agree with Turing that inte...   \n",
       "7   Prodigious power consumption by AI is responsi...   \n",
       "8   Knowledge representation and knowledge enginee...   \n",
       "9   Respect the dignity of individual people\\nConn...   \n",
       "10  Generative AI is often trained on unlicensed c...   \n",
       "11               ==== Technological unemployment ====   \n",
       "\n",
       "                                        random_answer  level  is_correct  \n",
       "0   In automated planning, a rational agent has a ...    NaN         NaN  \n",
       "1   I would just combine all the existing models i...    NaN         NaN  \n",
       "2   AI developers use techniques such as data encr...    NaN         NaN  \n",
       "3   The demographic makeup of AI engineers, being ...    NaN         NaN  \n",
       "4   A lethal autonomous weapon is a machine that l...    NaN         NaN  \n",
       "5   It means that the system or organization is ph...    NaN         NaN  \n",
       "6   Strengths include that it requires the machine...    NaN         NaN  \n",
       "7   Strategies could include increasing the use of...    NaN         NaN  \n",
       "8   A knowledge base is a database that stores inf...    NaN         NaN  \n",
       "9   The effectiveness of the 'Inspect' toolset can...    NaN         NaN  \n",
       "10  I could indicate my wishes not to have my cont...    NaN         NaN  \n",
       "11  A smartphone application that allows users to ...    NaN         NaN  "
      ]
     },
     "execution_count": 34,
     "metadata": {},
     "output_type": "execute_result"
    }
   ],
   "source": [
    "# Save only the df with columns: 'question', 'random_answer' and the columns \"level\", \"is_corret\" with NaN values\n",
    "guess_df = df[['question', 'chunk', 'random_answer']].copy()\n",
    "guess_df['level'] = np.nan\n",
    "guess_df['is_correct'] = np.nan\n",
    "guess_df.to_csv('SAQ_questions_labels_guess.csv', index=False)\n",
    "guess_df"
   ]
  },
  {
   "cell_type": "code",
   "execution_count": 35,
   "metadata": {},
   "outputs": [
    {
     "data": {
      "text/html": [
       "<div>\n",
       "<style scoped>\n",
       "    .dataframe tbody tr th:only-of-type {\n",
       "        vertical-align: middle;\n",
       "    }\n",
       "\n",
       "    .dataframe tbody tr th {\n",
       "        vertical-align: top;\n",
       "    }\n",
       "\n",
       "    .dataframe thead th {\n",
       "        text-align: right;\n",
       "    }\n",
       "</style>\n",
       "<table border=\"1\" class=\"dataframe\">\n",
       "  <thead>\n",
       "    <tr style=\"text-align: right;\">\n",
       "      <th></th>\n",
       "      <th>question</th>\n",
       "      <th>chunk</th>\n",
       "      <th>random_answer</th>\n",
       "      <th>level</th>\n",
       "      <th>is_correct</th>\n",
       "    </tr>\n",
       "  </thead>\n",
       "  <tbody>\n",
       "    <tr>\n",
       "      <th>0</th>\n",
       "      <td>Compare and contrast the processes of automate...</td>\n",
       "      <td>=== Planning and decision-making ===\\nAn \"agen...</td>\n",
       "      <td>In automated planning, a rational agent has a ...</td>\n",
       "      <td>NaN</td>\n",
       "      <td>True</td>\n",
       "    </tr>\n",
       "    <tr>\n",
       "      <th>1</th>\n",
       "      <td>Imagine you are tasked with developing a new A...</td>\n",
       "      <td>Alternatively, dedicated models for mathematic...</td>\n",
       "      <td>I would just combine all the existing models i...</td>\n",
       "      <td>NaN</td>\n",
       "      <td>False</td>\n",
       "    </tr>\n",
       "    <tr>\n",
       "      <th>2</th>\n",
       "      <td>What are some of the techniques AI developers ...</td>\n",
       "      <td>AI developers argue that this is the only way ...</td>\n",
       "      <td>AI developers use techniques such as data encr...</td>\n",
       "      <td>NaN</td>\n",
       "      <td>False</td>\n",
       "    </tr>\n",
       "    <tr>\n",
       "      <th>3</th>\n",
       "      <td>How might the demographic makeup of AI enginee...</td>\n",
       "      <td>Criticism of COMPAS highlighted that machine l...</td>\n",
       "      <td>The demographic makeup of AI engineers, being ...</td>\n",
       "      <td>NaN</td>\n",
       "      <td>True</td>\n",
       "    </tr>\n",
       "    <tr>\n",
       "      <th>4</th>\n",
       "      <td>What is a lethal autonomous weapon?</td>\n",
       "      <td>Artificial intelligence provides a number of t...</td>\n",
       "      <td>A lethal autonomous weapon is a machine that l...</td>\n",
       "      <td>NaN</td>\n",
       "      <td>True</td>\n",
       "    </tr>\n",
       "    <tr>\n",
       "      <th>5</th>\n",
       "      <td>What does it mean when a system or organizatio...</td>\n",
       "      <td>==== Lack of transparency ====</td>\n",
       "      <td>It means that the system or organization is ph...</td>\n",
       "      <td>NaN</td>\n",
       "      <td>False</td>\n",
       "    </tr>\n",
       "    <tr>\n",
       "      <th>6</th>\n",
       "      <td>Based on the various definitions of intelligen...</td>\n",
       "      <td>Russell and Norvig agree with Turing that inte...</td>\n",
       "      <td>Strengths include that it requires the machine...</td>\n",
       "      <td>NaN</td>\n",
       "      <td>False</td>\n",
       "    </tr>\n",
       "    <tr>\n",
       "      <th>7</th>\n",
       "      <td>Imagine you are the head of a large technology...</td>\n",
       "      <td>Prodigious power consumption by AI is responsi...</td>\n",
       "      <td>Strategies could include increasing the use of...</td>\n",
       "      <td>NaN</td>\n",
       "      <td>False</td>\n",
       "    </tr>\n",
       "    <tr>\n",
       "      <th>8</th>\n",
       "      <td>What is a knowledge base in the context of art...</td>\n",
       "      <td>Knowledge representation and knowledge enginee...</td>\n",
       "      <td>A knowledge base is a database that stores inf...</td>\n",
       "      <td>NaN</td>\n",
       "      <td>False</td>\n",
       "    </tr>\n",
       "    <tr>\n",
       "      <th>9</th>\n",
       "      <td>Based on the ethical principles outlined and t...</td>\n",
       "      <td>Respect the dignity of individual people\\nConn...</td>\n",
       "      <td>The effectiveness of the 'Inspect' toolset can...</td>\n",
       "      <td>NaN</td>\n",
       "      <td>True</td>\n",
       "    </tr>\n",
       "    <tr>\n",
       "      <th>10</th>\n",
       "      <td>Imagine you are the owner of a website and you...</td>\n",
       "      <td>Generative AI is often trained on unlicensed c...</td>\n",
       "      <td>I could indicate my wishes not to have my cont...</td>\n",
       "      <td>NaN</td>\n",
       "      <td>True</td>\n",
       "    </tr>\n",
       "    <tr>\n",
       "      <th>11</th>\n",
       "      <td>Design an original product or service that cou...</td>\n",
       "      <td>==== Technological unemployment ====</td>\n",
       "      <td>A smartphone application that allows users to ...</td>\n",
       "      <td>NaN</td>\n",
       "      <td>False</td>\n",
       "    </tr>\n",
       "  </tbody>\n",
       "</table>\n",
       "</div>"
      ],
      "text/plain": [
       "                                             question  \\\n",
       "0   Compare and contrast the processes of automate...   \n",
       "1   Imagine you are tasked with developing a new A...   \n",
       "2   What are some of the techniques AI developers ...   \n",
       "3   How might the demographic makeup of AI enginee...   \n",
       "4                 What is a lethal autonomous weapon?   \n",
       "5   What does it mean when a system or organizatio...   \n",
       "6   Based on the various definitions of intelligen...   \n",
       "7   Imagine you are the head of a large technology...   \n",
       "8   What is a knowledge base in the context of art...   \n",
       "9   Based on the ethical principles outlined and t...   \n",
       "10  Imagine you are the owner of a website and you...   \n",
       "11  Design an original product or service that cou...   \n",
       "\n",
       "                                                chunk  \\\n",
       "0   === Planning and decision-making ===\\nAn \"agen...   \n",
       "1   Alternatively, dedicated models for mathematic...   \n",
       "2   AI developers argue that this is the only way ...   \n",
       "3   Criticism of COMPAS highlighted that machine l...   \n",
       "4   Artificial intelligence provides a number of t...   \n",
       "5                      ==== Lack of transparency ====   \n",
       "6   Russell and Norvig agree with Turing that inte...   \n",
       "7   Prodigious power consumption by AI is responsi...   \n",
       "8   Knowledge representation and knowledge enginee...   \n",
       "9   Respect the dignity of individual people\\nConn...   \n",
       "10  Generative AI is often trained on unlicensed c...   \n",
       "11               ==== Technological unemployment ====   \n",
       "\n",
       "                                        random_answer  level  is_correct  \n",
       "0   In automated planning, a rational agent has a ...    NaN        True  \n",
       "1   I would just combine all the existing models i...    NaN       False  \n",
       "2   AI developers use techniques such as data encr...    NaN       False  \n",
       "3   The demographic makeup of AI engineers, being ...    NaN        True  \n",
       "4   A lethal autonomous weapon is a machine that l...    NaN        True  \n",
       "5   It means that the system or organization is ph...    NaN       False  \n",
       "6   Strengths include that it requires the machine...    NaN       False  \n",
       "7   Strategies could include increasing the use of...    NaN       False  \n",
       "8   A knowledge base is a database that stores inf...    NaN       False  \n",
       "9   The effectiveness of the 'Inspect' toolset can...    NaN        True  \n",
       "10  I could indicate my wishes not to have my cont...    NaN        True  \n",
       "11  A smartphone application that allows users to ...    NaN       False  "
      ]
     },
     "execution_count": 35,
     "metadata": {},
     "output_type": "execute_result"
    }
   ],
   "source": [
    "# add column \"is_correct\" with True if the answer is correct, False if the answer is incorrect\n",
    "guess_df['is_correct'] = df.apply(lambda x: x['correct_answer'] == x['random_answer'], axis=1)\n",
    "guess_df"
   ]
  },
  {
   "cell_type": "code",
   "execution_count": 40,
   "metadata": {},
   "outputs": [
    {
     "data": {
      "text/html": [
       "<div>\n",
       "<style scoped>\n",
       "    .dataframe tbody tr th:only-of-type {\n",
       "        vertical-align: middle;\n",
       "    }\n",
       "\n",
       "    .dataframe tbody tr th {\n",
       "        vertical-align: top;\n",
       "    }\n",
       "\n",
       "    .dataframe thead th {\n",
       "        text-align: right;\n",
       "    }\n",
       "</style>\n",
       "<table border=\"1\" class=\"dataframe\">\n",
       "  <thead>\n",
       "    <tr style=\"text-align: right;\">\n",
       "      <th></th>\n",
       "      <th>question</th>\n",
       "      <th>chunk</th>\n",
       "      <th>random_answer</th>\n",
       "      <th>level</th>\n",
       "      <th>is_correct</th>\n",
       "      <th>predicted_is_correct</th>\n",
       "      <th>feedback</th>\n",
       "    </tr>\n",
       "  </thead>\n",
       "  <tbody>\n",
       "    <tr>\n",
       "      <th>0</th>\n",
       "      <td>Compare and contrast the processes of automate...</td>\n",
       "      <td>=== Planning and decision-making ===\\nAn \"agen...</td>\n",
       "      <td>In automated planning, a rational agent has a ...</td>\n",
       "      <td>NaN</td>\n",
       "      <td>True</td>\n",
       "      <td>True</td>\n",
       "      <td>Great job! Your answer accurately describes th...</td>\n",
       "    </tr>\n",
       "    <tr>\n",
       "      <th>1</th>\n",
       "      <td>Imagine you are tasked with developing a new A...</td>\n",
       "      <td>Alternatively, dedicated models for mathematic...</td>\n",
       "      <td>I would just combine all the existing models i...</td>\n",
       "      <td>NaN</td>\n",
       "      <td>False</td>\n",
       "      <td>False</td>\n",
       "      <td>Your approach to simply combine all the existi...</td>\n",
       "    </tr>\n",
       "    <tr>\n",
       "      <th>2</th>\n",
       "      <td>What are some of the techniques AI developers ...</td>\n",
       "      <td>AI developers argue that this is the only way ...</td>\n",
       "      <td>AI developers use techniques such as data encr...</td>\n",
       "      <td>NaN</td>\n",
       "      <td>False</td>\n",
       "      <td>False</td>\n",
       "      <td>Your answer is not quite correct. The techniqu...</td>\n",
       "    </tr>\n",
       "    <tr>\n",
       "      <th>3</th>\n",
       "      <td>How might the demographic makeup of AI enginee...</td>\n",
       "      <td>Criticism of COMPAS highlighted that machine l...</td>\n",
       "      <td>The demographic makeup of AI engineers, being ...</td>\n",
       "      <td>NaN</td>\n",
       "      <td>True</td>\n",
       "      <td>True</td>\n",
       "      <td>Excellent job! You correctly identified how th...</td>\n",
       "    </tr>\n",
       "    <tr>\n",
       "      <th>4</th>\n",
       "      <td>What is a lethal autonomous weapon?</td>\n",
       "      <td>Artificial intelligence provides a number of t...</td>\n",
       "      <td>A lethal autonomous weapon is a machine that l...</td>\n",
       "      <td>NaN</td>\n",
       "      <td>True</td>\n",
       "      <td>True</td>\n",
       "      <td>Great job! Your definition of a lethal autonom...</td>\n",
       "    </tr>\n",
       "    <tr>\n",
       "      <th>5</th>\n",
       "      <td>What does it mean when a system or organizatio...</td>\n",
       "      <td>==== Lack of transparency ====</td>\n",
       "      <td>It means that the system or organization is ph...</td>\n",
       "      <td>NaN</td>\n",
       "      <td>False</td>\n",
       "      <td>False</td>\n",
       "      <td>Your answer is incorrect. When a system or org...</td>\n",
       "    </tr>\n",
       "    <tr>\n",
       "      <th>6</th>\n",
       "      <td>Based on the various definitions of intelligen...</td>\n",
       "      <td>Russell and Norvig agree with Turing that inte...</td>\n",
       "      <td>Strengths include that it requires the machine...</td>\n",
       "      <td>NaN</td>\n",
       "      <td>False</td>\n",
       "      <td>False</td>\n",
       "      <td>Your answer doesn't align with the text. The s...</td>\n",
       "    </tr>\n",
       "    <tr>\n",
       "      <th>7</th>\n",
       "      <td>Imagine you are the head of a large technology...</td>\n",
       "      <td>Prodigious power consumption by AI is responsi...</td>\n",
       "      <td>Strategies could include increasing the use of...</td>\n",
       "      <td>NaN</td>\n",
       "      <td>False</td>\n",
       "      <td>False</td>\n",
       "      <td>Your answer seems to contradict the goal of re...</td>\n",
       "    </tr>\n",
       "    <tr>\n",
       "      <th>8</th>\n",
       "      <td>What is a knowledge base in the context of art...</td>\n",
       "      <td>Knowledge representation and knowledge enginee...</td>\n",
       "      <td>A knowledge base is a database that stores inf...</td>\n",
       "      <td>NaN</td>\n",
       "      <td>False</td>\n",
       "      <td>False</td>\n",
       "      <td>Your answer is partially correct. A knowledge ...</td>\n",
       "    </tr>\n",
       "    <tr>\n",
       "      <th>9</th>\n",
       "      <td>Based on the ethical principles outlined and t...</td>\n",
       "      <td>Respect the dignity of individual people\\nConn...</td>\n",
       "      <td>The effectiveness of the 'Inspect' toolset can...</td>\n",
       "      <td>NaN</td>\n",
       "      <td>True</td>\n",
       "      <td>True</td>\n",
       "      <td>Great job! Your answer correctly identifies th...</td>\n",
       "    </tr>\n",
       "    <tr>\n",
       "      <th>10</th>\n",
       "      <td>Imagine you are the owner of a website and you...</td>\n",
       "      <td>Generative AI is often trained on unlicensed c...</td>\n",
       "      <td>I could indicate my wishes not to have my cont...</td>\n",
       "      <td>NaN</td>\n",
       "      <td>True</td>\n",
       "      <td>True</td>\n",
       "      <td>Great job! You're correct, as a website owner ...</td>\n",
       "    </tr>\n",
       "    <tr>\n",
       "      <th>11</th>\n",
       "      <td>Design an original product or service that cou...</td>\n",
       "      <td>==== Technological unemployment ====</td>\n",
       "      <td>A smartphone application that allows users to ...</td>\n",
       "      <td>NaN</td>\n",
       "      <td>False</td>\n",
       "      <td>False</td>\n",
       "      <td>Your answer does not address the issue of tech...</td>\n",
       "    </tr>\n",
       "  </tbody>\n",
       "</table>\n",
       "</div>"
      ],
      "text/plain": [
       "                                             question  \\\n",
       "0   Compare and contrast the processes of automate...   \n",
       "1   Imagine you are tasked with developing a new A...   \n",
       "2   What are some of the techniques AI developers ...   \n",
       "3   How might the demographic makeup of AI enginee...   \n",
       "4                 What is a lethal autonomous weapon?   \n",
       "5   What does it mean when a system or organizatio...   \n",
       "6   Based on the various definitions of intelligen...   \n",
       "7   Imagine you are the head of a large technology...   \n",
       "8   What is a knowledge base in the context of art...   \n",
       "9   Based on the ethical principles outlined and t...   \n",
       "10  Imagine you are the owner of a website and you...   \n",
       "11  Design an original product or service that cou...   \n",
       "\n",
       "                                                chunk  \\\n",
       "0   === Planning and decision-making ===\\nAn \"agen...   \n",
       "1   Alternatively, dedicated models for mathematic...   \n",
       "2   AI developers argue that this is the only way ...   \n",
       "3   Criticism of COMPAS highlighted that machine l...   \n",
       "4   Artificial intelligence provides a number of t...   \n",
       "5                      ==== Lack of transparency ====   \n",
       "6   Russell and Norvig agree with Turing that inte...   \n",
       "7   Prodigious power consumption by AI is responsi...   \n",
       "8   Knowledge representation and knowledge enginee...   \n",
       "9   Respect the dignity of individual people\\nConn...   \n",
       "10  Generative AI is often trained on unlicensed c...   \n",
       "11               ==== Technological unemployment ====   \n",
       "\n",
       "                                        random_answer  level  is_correct  \\\n",
       "0   In automated planning, a rational agent has a ...    NaN        True   \n",
       "1   I would just combine all the existing models i...    NaN       False   \n",
       "2   AI developers use techniques such as data encr...    NaN       False   \n",
       "3   The demographic makeup of AI engineers, being ...    NaN        True   \n",
       "4   A lethal autonomous weapon is a machine that l...    NaN        True   \n",
       "5   It means that the system or organization is ph...    NaN       False   \n",
       "6   Strengths include that it requires the machine...    NaN       False   \n",
       "7   Strategies could include increasing the use of...    NaN       False   \n",
       "8   A knowledge base is a database that stores inf...    NaN       False   \n",
       "9   The effectiveness of the 'Inspect' toolset can...    NaN        True   \n",
       "10  I could indicate my wishes not to have my cont...    NaN        True   \n",
       "11  A smartphone application that allows users to ...    NaN       False   \n",
       "\n",
       "    predicted_is_correct                                           feedback  \n",
       "0                   True  Great job! Your answer accurately describes th...  \n",
       "1                  False  Your approach to simply combine all the existi...  \n",
       "2                  False  Your answer is not quite correct. The techniqu...  \n",
       "3                   True  Excellent job! You correctly identified how th...  \n",
       "4                   True  Great job! Your definition of a lethal autonom...  \n",
       "5                  False  Your answer is incorrect. When a system or org...  \n",
       "6                  False  Your answer doesn't align with the text. The s...  \n",
       "7                  False  Your answer seems to contradict the goal of re...  \n",
       "8                  False  Your answer is partially correct. A knowledge ...  \n",
       "9                   True  Great job! Your answer correctly identifies th...  \n",
       "10                  True  Great job! You're correct, as a website owner ...  \n",
       "11                 False  Your answer does not address the issue of tech...  "
      ]
     },
     "execution_count": 40,
     "metadata": {},
     "output_type": "execute_result"
    }
   ],
   "source": [
    "# Add column predicted_is_correct with True if the llm predicted the answer correctly, False if the llm predicted the answer incorrectly\n",
    "# Use the check_answer_saq function from BloomQuestionGenerator to check the answer\n",
    "# and add column feedback with the feedback from the llm\n",
    "\n",
    "guess_df['predicted_is_correct'] = guess_df.apply(lambda x: bloom_generator.check_answer_saq(x['chunk'], x['question'], x['random_answer'])[0], axis=1)\n",
    "guess_df['feedback'] = guess_df.apply(lambda x: bloom_generator.check_answer_saq(x['chunk'], x['question'], x['random_answer'])[1], axis=1)\n",
    "guess_df"
   ]
  },
  {
   "cell_type": "code",
   "execution_count": 41,
   "metadata": {},
   "outputs": [],
   "source": [
    "# save guess_df to a csv file\n",
    "guess_df.to_csv('SAQ_questions_labels_guess_with_feedback.csv', index=False)"
   ]
  },
  {
   "cell_type": "markdown",
   "metadata": {},
   "source": [
    "## Generation from PDF"
   ]
  },
  {
   "cell_type": "code",
   "execution_count": 23,
   "metadata": {},
   "outputs": [],
   "source": [
    "pdf_path = \"../data/courses/MIT18_S096F15_Ses2_4.pdf\"\n",
    "pdf_chunker = PDFChunker(pdf_path=pdf_path)"
   ]
  },
  {
   "cell_type": "code",
   "execution_count": 24,
   "metadata": {},
   "outputs": [
    {
     "data": {
      "text/plain": [
       "[Document(metadata={'type': 'text'}, page_content='1.2 PCA in high dimensions and Marcenko-Pastur'),\n",
       " Document(metadata={'type': 'text'}, page_content='Let us assume that the data points x 1,...,xn ∈ R are independent draws of a gaussian random p variable g ∼ N(0,Σ) for some covariance Σ ∈ Rp×p. In this case when we use PCA we are hoping to ﬁnd low dimensional structure in the distribution, which should correspond to large eigenvalues of Σ (and their corresponding eigenvectors). For this reason (and since PCA depends on the spectral properties of Σn) we would like to understand whether the spectral properties of Σn (eigenvalues and eigenvectors) are close to the ones of Σ.'),\n",
       " Document(metadata={'type': 'text'}, page_content='Since EΣn = Σ, if p is ﬁxed and n → ∞ the law of large numbers guarantees that indeed Σn → Σ. However, in many modern applications it is not uncommon to have p in the order of n (or, sometimes, even larger!). For example, if our dataset is composed by images then n is the number of images and p the number of pixels per image; it is conceivable that the number of pixels be on the order of the number of images in a set. Unfortunately, in that case, it is no longer clear that Σn → Σ. Dealing with this type of diﬃculties is the realm of high dimensional statistics.'),\n",
       " Document(metadata={'type': 'text'}, page_content='For simplicity we will instead try to understand the spectral properties of'),\n",
       " Document(metadata={'type': 'text'}, page_content='1 Sn = XXT. n'),\n",
       " Document(metadata={'type': 'text'}, page_content='Since x ∼ N(0,Σ) we know that µn → 0 (and, clearly, n n−1 → 1) the spectral properties of Sn will be essentially the same as Σn.3'),\n",
       " Document(metadata={'type': 'text'}, page_content='Let us start by looking into a simple example, Σ = I. In that case, the distribution has no low dimensional structure, as the distribution is rotation invariant. The following is a histogram (left) and a scree plot of the eigenvalues of a sample of Sn (when Σ = I) for p = 500 and n = 1000. The red line is the eigenvalue distribution predicted by the Marchenko-Pastur distribution (15), that we will discuss below.'),\n",
       " Document(metadata={'type': 'text'}, page_content='As one can see in the image, there are many eigenvalues considerably larger than 1 (and some considerably larger than others). Notice that , if given this proﬁle of eigenvalues of Σn one could potentially be led to believe that the data has low dimensional structure, when in truth the distribution it was drawn from is isotropic.'),\n",
       " Document(metadata={'type': 'text'}, page_content='Understanding the distribution of eigenvalues of random matrices is in the core of Random Matrix Theory (there are many good books on Random Matrix Theory, e.g. [Tao12] and [AGZ10]). This particular limiting distribution was ﬁrst established in 1967 by Marchenko and Pastur [MP67] and is now referred to as the Marchenko-Pastur distribution. They showed that, if p and n are both going to ∞ with their ratio ﬁxed p/n = γ ≤ 1, the sample distribution of the eigenvalues of Sn (like the histogram above), in the limit, will be'),\n",
       " Document(metadata={'type': 'text'}, page_content='1 V4 -AVA-7-)'),\n",
       " Document(metadata={'type': 'text'}, page_content='dFγ(λ) = − 1[γ 2π γλ −,γ+](λ)dλ, (15)'),\n",
       " Document(metadata={'type': 'text'}, page_content='3In this case, Sn is actually the Maximum likelihood estimator for Σ, we’ll talk about Maximum likelihood estimation later in the course.'),\n",
       " Document(metadata={'type': 'text'}, page_content='with support [γ ,γ+]. This is plotted as the red line in the ﬁgure above.'),\n",
       " Document(metadata={'type': 'text'}, page_content='Remark 1.2 We will not show the proof of the Marchenko-Pastur Theorem here (you can see, for example, [Bai99] for several diﬀerent proofs of it), but an approach to a proof is using the so-called moment method. The core of the idea is to note that one can compute moments of the eigenvalue distribution in two ways and note that (in the limit) for any k,'),\n",
       " Document(metadata={'type': 'text'}, page_content='Lyx . tet (s*) =e} . de ” Near. Xr (2 ) = tn (sk) = pmo =f 40), P 1 -ETr p'),\n",
       " Document(metadata={'type': 'text'}, page_content='and that the quantities 1ETr p n can be estimated (these estimates rely essentially in combi- natorics). The distribution dFγ(λ) can then be computed from its moments.'),\n",
       " Document(metadata={'type': 'image'}, page_content='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')]"
      ]
     },
     "execution_count": 24,
     "metadata": {},
     "output_type": "execute_result"
    }
   ],
   "source": [
    "formated_chunks = pdf_chunker.formated_chunks\n",
    "formated_chunks[4]"
   ]
  },
  {
   "cell_type": "code",
   "execution_count": 26,
   "metadata": {},
   "outputs": [
    {
     "data": {
      "text/plain": [
       "{'question': 'Who introduced Principal Component Analysis (PCA) in a 1901 paper?',\n",
       " 'choices': {'A': 'Ronald Fisher',\n",
       "  'B': 'Karl Pearson',\n",
       "  'C': 'John Tukey',\n",
       "  'D': 'Francis Galton'},\n",
       " 'answer': 'B'}"
      ]
     },
     "execution_count": 26,
     "metadata": {},
     "output_type": "execute_result"
    }
   ],
   "source": [
    "bloom_generator = BloomQuestionGenerator(model=\"gpt-4o\")\n",
    "question_dict = bloom_generator.generate_question(formated_chunks[0], question_type=\"MCQ\", level=1)\n",
    "question_dict"
   ]
  },
  {
   "cell_type": "code",
   "execution_count": 27,
   "metadata": {},
   "outputs": [
    {
     "data": {
      "text/plain": [
       "{'question': 'What is the relationship between p and n in the context of the Marchenko-Pastur distribution?',\n",
       " 'choices': {'A': 'p is much smaller than n',\n",
       "  'B': 'p is much larger than n',\n",
       "  'C': 'p and n are both going to infinity with their ratio fixed',\n",
       "  'D': 'p and n are unrelated'},\n",
       " 'answer': 'C'}"
      ]
     },
     "execution_count": 27,
     "metadata": {},
     "output_type": "execute_result"
    }
   ],
   "source": [
    "question_dict = bloom_generator.generate_question(formated_chunks[4], question_type=\"MCQ\", level=1)\n",
    "question_dict"
   ]
  },
  {
   "cell_type": "code",
   "execution_count": 28,
   "metadata": {},
   "outputs": [
    {
     "data": {
      "text/plain": [
       "{'question': 'What is the distribution called that describes the sample distribution of eigenvalues of Sn when p and n both go to infinity with a fixed ratio?',\n",
       " 'correct_answer': 'Marchenko-Pastur distribution',\n",
       " 'incorrect_answer': 'Gaussian distribution'}"
      ]
     },
     "execution_count": 28,
     "metadata": {},
     "output_type": "execute_result"
    }
   ],
   "source": [
    "question_dict = bloom_generator.generate_question(formated_chunks[4], question_type=\"SAQ\", level=1)\n",
    "question_dict"
   ]
  },
  {
   "cell_type": "code",
   "execution_count": null,
   "metadata": {},
   "outputs": [],
   "source": []
  }
 ],
 "metadata": {
  "kernelspec": {
   "display_name": "ml4ed",
   "language": "python",
   "name": "python3"
  },
  "language_info": {
   "codemirror_mode": {
    "name": "ipython",
    "version": 3
   },
   "file_extension": ".py",
   "mimetype": "text/x-python",
   "name": "python",
   "nbconvert_exporter": "python",
   "pygments_lexer": "ipython3",
   "version": "3.11.11"
  }
 },
 "nbformat": 4,
 "nbformat_minor": 2
}
