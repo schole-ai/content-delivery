{
 "cells": [
  {
   "cell_type": "code",
   "execution_count": 1,
   "id": "54eddc59",
   "metadata": {},
   "outputs": [],
   "source": [
    "import sys\n",
    "import os\n",
    "import json\n",
    "import pandas as pd\n",
    "import numpy as np\n",
    "import matplotlib.pyplot as plt\n",
    "import seaborn as sns\n",
    "from tqdm.notebook import tqdm\n",
    "\n",
    "sys.path.append(os.path.abspath(os.path.join(os.getcwd(), '..')))\n",
    "\n",
    "from scripts.bloom_gen import BloomQuestionGenerator\n",
    "from scripts.chunk import TextChunker\n",
    "\n",
    "%matplotlib inline\n",
    "%load_ext autoreload\n",
    "%autoreload 2"
   ]
  },
  {
   "cell_type": "markdown",
   "id": "290e9d32",
   "metadata": {},
   "source": [
    "## Pipeline Testing"
   ]
  },
  {
   "cell_type": "markdown",
   "id": "157c0725",
   "metadata": {},
   "source": [
    "### Load Documents"
   ]
  },
  {
   "cell_type": "code",
   "execution_count": 6,
   "id": "347e0d89",
   "metadata": {},
   "outputs": [],
   "source": [
    "course_folder = os.path.abspath(os.path.join(os.getcwd(), '..', 'data', 'courses'))\n",
    "course_path = os.path.join(course_folder, 'MIT18_S096F15_Ses2_4.pdf')"
   ]
  },
  {
   "cell_type": "code",
   "execution_count": null,
   "id": "37e64d9d",
   "metadata": {},
   "outputs": [],
   "source": []
  }
 ],
 "metadata": {
  "kernelspec": {
   "display_name": "ml4ed",
   "language": "python",
   "name": "python3"
  },
  "language_info": {
   "codemirror_mode": {
    "name": "ipython",
    "version": 3
   },
   "file_extension": ".py",
   "mimetype": "text/x-python",
   "name": "python",
   "nbconvert_exporter": "python",
   "pygments_lexer": "ipython3",
   "version": "3.11.11"
  }
 },
 "nbformat": 4,
 "nbformat_minor": 5
}
