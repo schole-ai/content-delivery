{
 "cells": [
  {
   "cell_type": "code",
   "execution_count": 2,
   "metadata": {},
   "outputs": [],
   "source": [
    "from neo4j import GraphDatabase"
   ]
  },
  {
   "cell_type": "markdown",
   "metadata": {},
   "source": [
    "### Connection to Neo4j KG database"
   ]
  },
  {
   "cell_type": "code",
   "execution_count": 3,
   "metadata": {},
   "outputs": [
    {
     "name": "stdout",
     "output_type": "stream",
     "text": [
      "Connected to Neo4j\n"
     ]
    }
   ],
   "source": [
    "# Neo4j LLM Builder\n",
    "# NEO4J_URI = \"neo4j+s://fcc22d75.databases.neo4j.io\"\n",
    "# NEO4J_USERNAME = \"neo4j\"\n",
    "# NEO4J_PASSWORD = \"Abdo3VjaAxAfAZkkSWvRsQZN_IJ4EWTqUP9RTg0VwIc\"\n",
    "\n",
    "# local connection\n",
    "# NEO4J_URI = \"bolt://localhost:7687\"\n",
    "# NEO4J_USERNAME = \"neo4j\"\n",
    "# NEO4J_PASSWORD = \"password123\"\n",
    "\n",
    "# Adrien's KG \n",
    "NEO4J_URI=\"neo4j+s://4d4a6555.databases.neo4j.io:7687\"\n",
    "NEO4J_USERNAME=\"neo4j\"\n",
    "NEO4J_PASSWORD=\"cTzNG9WsDNDSZW8M7U44wcmsbvsuTnPzjChLNi9qt9E\"\n",
    "\n",
    "# Connect to Neo4j\n",
    "driver = GraphDatabase.driver(NEO4J_URI, auth=(NEO4J_USERNAME, NEO4J_PASSWORD))\n",
    "\n",
    "print(\"Connected to Neo4j\")"
   ]
  },
  {
   "cell_type": "markdown",
   "metadata": {},
   "source": [
    "### Data exploration"
   ]
  },
  {
   "cell_type": "markdown",
   "metadata": {},
   "source": [
    "Basic data exploration of the synthetic knowledge graph"
   ]
  },
  {
   "cell_type": "code",
   "execution_count": 4,
   "metadata": {},
   "outputs": [],
   "source": [
    "def run_query(query):\n",
    "    with driver.session() as session:\n",
    "        result = session.run(query)\n",
    "        return [record for record in result]"
   ]
  },
  {
   "cell_type": "code",
   "execution_count": 5,
   "metadata": {},
   "outputs": [
    {
     "name": "stdout",
     "output_type": "stream",
     "text": [
      "Total Nodes: 432\n",
      "Total Relationships: 389\n"
     ]
    }
   ],
   "source": [
    "# 1. Count number of nodes and relationships\n",
    "node_count = run_query(\"MATCH (n) RETURN count(n) AS total_nodes\")\n",
    "relationship_count = run_query(\"MATCH ()-[r]->() RETURN count(r) AS total_relationships\")\n",
    "print(\"Total Nodes:\", node_count[0]['total_nodes'])\n",
    "print(\"Total Relationships:\", relationship_count[0]['total_relationships'])"
   ]
  },
  {
   "cell_type": "code",
   "execution_count": 6,
   "metadata": {},
   "outputs": [
    {
     "name": "stdout",
     "output_type": "stream",
     "text": [
      "Node Labels: ['Chunk', '__Entity__', 'Skill']\n",
      "Relationship Types: ['IS_PRE_REQUISITE_OF']\n"
     ]
    }
   ],
   "source": [
    "# 2. Get distinct node labels\n",
    "node_labels = run_query(\"CALL db.labels() YIELD label RETURN label\")\n",
    "print(\"Node Labels:\", [record['label'] for record in node_labels])\n",
    "# 3. Get distinct relationship types\n",
    "relationship_types = run_query(\"CALL db.relationshipTypes() YIELD relationshipType RETURN relationshipType\")\n",
    "print(\"Relationship Types:\", [record['relationshipType'] for record in relationship_types])"
   ]
  },
  {
   "cell_type": "code",
   "execution_count": 7,
   "metadata": {},
   "outputs": [
    {
     "name": "stdout",
     "output_type": "stream",
     "text": [
      "Top 5 Most Connected Nodes:\n",
      "<Node element_id='4:728ea546-571a-4682-a668-69c89dc4f483:401' labels=frozenset({'Skill'}) properties={'materials': ['2687f888-b94e-4324-9ad7-c1c8a2de6ba4', 'adf131fe-17dd-41cd-ad1f-7cb8a7274427', '6eb0a701-50be-4c46-850e-7265b7179089', '9de08207-70d7-46a2-83c7-3859f8d5d19c', 'ea1dd49d-730b-450a-b649-6d67e9a3fe11', '19876630-6bc5-4202-b6e3-f76259a43e2b', '33029dda-1212-4277-8975-6b1c77896dd5', 'c1381bbe-5fb7-4fe8-8e54-b9a20fe503e7', '80aba047-df03-4600-8a1a-984540ccd1f0', '961e339c-d4d1-4c8e-bab3-32bbd989a315', '02d4fb5d-74e0-49f8-880f-c8e13d62fdb0', 'fae385f2-0908-4265-9a41-4ce8b4f04699', '07f76538-308b-4459-918c-d8760285850e', '7c7b9c7d-b7e6-4ab9-ab39-971ab86eebea', 'bc544988-8f43-4045-8cc6-bb64bc61f3e8'], 'name': 'machine learning'}>\n",
      "<Node element_id='4:728ea546-571a-4682-a668-69c89dc4f483:457' labels=frozenset({'Skill'}) properties={'materials': ['adf131fe-17dd-41cd-ad1f-7cb8a7274427', '0d72b55e-f495-438d-af49-a91d91aa3a9e', '02a79db9-792e-43b1-99d5-1c4ecaaf4aca', '9f343c1c-3b36-4844-ace4-bcf72be73a8a', '9de08207-70d7-46a2-83c7-3859f8d5d19c', '4c398910-99de-4cf3-82b7-33b0571ba806', '3123abdf-d192-40f5-af2b-553c7e05aa0e', '79a25b13-9f9b-4775-9b05-33853b819978', '7cd6ccaf-34ef-4ec7-85f4-609b922a2e34', '8d71daf8-8f61-462f-b2a7-20b389b28a27', 'f700e980-f669-453c-a500-e51bdf1bb9d6'], 'name': 'neural networks'}>\n",
      "<Node element_id='4:728ea546-571a-4682-a668-69c89dc4f483:567' labels=frozenset({'Skill'}) properties={'materials': ['accf0d28-7a9c-4c54-b87a-44fd5b50091d', '31328787-ecc2-405f-82df-dd30bd644e5b', '2687f888-b94e-4324-9ad7-c1c8a2de6ba4', 'adf131fe-17dd-41cd-ad1f-7cb8a7274427', '0d72b55e-f495-438d-af49-a91d91aa3a9e', '02a79db9-792e-43b1-99d5-1c4ecaaf4aca', '9f343c1c-3b36-4844-ace4-bcf72be73a8a', 'ea1dd49d-730b-450a-b649-6d67e9a3fe11', '6ab11e78-ac87-4330-84e5-b0ca91a8a253', '7f849976-19f8-485b-996e-184ae7561094', '79a25b13-9f9b-4775-9b05-33853b819978', '80aba047-df03-4600-8a1a-984540ccd1f0', '07f76538-308b-4459-918c-d8760285850e', 'e9dee967-b0b0-4ba5-8a55-e4966d05b6cb', '5efaae78-f167-4e25-861b-2122c757d9c4'], 'name': 'classification'}>\n",
      "<Node element_id='4:728ea546-571a-4682-a668-69c89dc4f483:545' labels=frozenset({'Skill'}) properties={'materials': ['accf0d28-7a9c-4c54-b87a-44fd5b50091d', '0016205c-b244-4d5a-b42a-dcd303ce4deb', '31328787-ecc2-405f-82df-dd30bd644e5b', '2687f888-b94e-4324-9ad7-c1c8a2de6ba4', 'adf131fe-17dd-41cd-ad1f-7cb8a7274427', '0d72b55e-f495-438d-af49-a91d91aa3a9e', 'ea1dd49d-730b-450a-b649-6d67e9a3fe11', 'd5005b5c-5c29-402a-93f1-9ef3614f8a14'], 'name': 'model evaluation'}>\n",
      "<Node element_id='4:728ea546-571a-4682-a668-69c89dc4f483:515' labels=frozenset({'Skill'}) properties={'materials': ['0016205c-b244-4d5a-b42a-dcd303ce4deb', 'b56e24b0-6ae9-41cd-bac8-5cdaf4fa1135', 'e4e17003-285e-4f8d-b145-546166111eaf', '33029dda-1212-4277-8975-6b1c77896dd5', '68bc8265-a3b1-41c8-9f59-82a194d9f741', '79a25b13-9f9b-4775-9b05-33853b819978', 'd5005b5c-5c29-402a-93f1-9ef3614f8a14', '07f76538-308b-4459-918c-d8760285850e', 'e9dee967-b0b0-4ba5-8a55-e4966d05b6cb', '5efaae78-f167-4e25-861b-2122c757d9c4', 'ba38e3c4-6d1a-45a1-91b9-08ecacd7ec17'], 'name': 'linear regression'}>\n"
     ]
    }
   ],
   "source": [
    "# 4. Get top 5 nodes with most relationships\n",
    "top_nodes = run_query(\"MATCH (n)-[r]-() RETURN n, count(r) AS degree ORDER BY degree DESC LIMIT 5\")\n",
    "print(\"Top 5 Most Connected Nodes:\")\n",
    "for record in top_nodes:\n",
    "    print(record['n'])"
   ]
  },
  {
   "cell_type": "code",
   "execution_count": 8,
   "metadata": {},
   "outputs": [
    {
     "name": "stdout",
     "output_type": "stream",
     "text": [
      "None\n"
     ]
    }
   ],
   "source": [
    "def get_textual_content(node_id):\n",
    "    with driver.session() as session:\n",
    "        query = \"\"\"\n",
    "        MATCH (n)\n",
    "        WHERE n.id = $node_id\n",
    "        RETURN n.text  // Replace 'text' with the correct textual property name\n",
    "        \"\"\"\n",
    "        result = session.run(query, node_id=node_id)\n",
    "        node = result.single()  # Returns the first match\n",
    "        \n",
    "        if node:\n",
    "            return node['n.text']  # The textual content of the node\n",
    "        else:\n",
    "            return None\n",
    "\n",
    "# Get the textual content of the node \n",
    "textual_content = get_textual_content('AI')\n",
    "print(textual_content)"
   ]
  },
  {
   "cell_type": "code",
   "execution_count": null,
   "metadata": {},
   "outputs": [
    {
     "name": "stdout",
     "output_type": "stream",
     "text": [
      "Node with the longest text: <Node element_id='4:f1d35087-bbee-462c-88fd-a0645044e884:19845' labels=frozenset({'Chunk'}) properties={'fileName': 'Algorithmic party platforms in the United States.txt', 'content_offset': 7156, 'length': 674, 'text': ' in political platforms also raises ethical and transparency concerns, particularly regarding the authenticity of dynamically adjusted messaging and the potential for voter manipulation. Addressing these challenges is crucial to maintaining voter trust and the integrity of the democratic process. In summary, AI significantly shapes political platforms in real time by providing campaigns with the tools to analyze voter sentiment, segment audiences, and adjust strategies dynamically. While offering substantial benefits in responsiveness and engagement, it is imperative to navigate the accompanying ethical considerations to ensure the responsible use of AI in political', 'embedding': [-0.026420066133141518, -0.04907726123929024, -0.047501225024461746, 0.011622647754848003, 0.06908784061670303, -0.004169016610831022, -0.014629881829023361, -0.04746732488274574, 0.02719358168542385, -0.025635452941060066, -0.0651039257645607, 0.01167316921055317, 0.014647810719907284, -0.022631527855992317, -0.006586288567632437, 0.011001727543771267, 0.06451341509819031, 0.02864081598818302, -0.05301710218191147, 0.029044510796666145, 0.008517027832567692, 0.0011336479801684618, 0.014953777194023132, 0.04774577543139458, 0.03146892040967941, -0.039166584610939026, 0.02664158120751381, -0.054705094546079636, 0.0034064168576151133, -0.02230387181043625, 0.10555548220872879, -0.05014316365122795, 0.005689524579793215, 0.056086085736751556, -0.048096321523189545, -0.03384096175432205, -0.04220714420080185, -0.05819825455546379, -0.018915390595793724, -0.049908604472875595, 0.012360946275293827, -0.10246942937374115, -0.045562922954559326, -0.010528271086513996, 0.013432673178613186, 0.0990891084074974, -0.021633770316839218, 0.03755626827478409, 0.03557776287198067, -0.0016325536416843534, -0.14145609736442566, -0.03297727182507515, 0.008736219257116318, -0.008380447514355183, -0.02281232364475727, -0.03958093374967575, -0.023422271013259888, 0.09572990238666534, 0.02316063828766346, -0.008000962436199188, 0.0049054306000471115, 0.018956109881401062, 0.07434035837650299, 0.04498894140124321, -0.039422959089279175, 0.09528779238462448, -0.04334496706724167, 0.0052909101359546185, -0.03774644434452057, -0.046803493052721024, 0.07952301949262619, 0.04914683848619461, -0.005178848747164011, -0.046566542237997055, -0.037233345210552216, -0.00021340603416319937, -0.015383685007691383, -0.009159951470792294, 0.08652345836162567, -0.01590714044868946, -0.004572570323944092, -0.003737708320841193, -0.01829889602959156, 0.0569048747420311, 0.09770727902650833, -0.05218959227204323, -0.005326009355485439, -0.0758400708436966, 0.05747818201780319, 0.04944983869791031, -0.022156456485390663, 0.05306273326277733, 0.08025148510932922, 0.009745201095938683, -0.01002974808216095, 0.0010902436915785074, -0.01992124319076538, -0.04261565953493118, 0.017231639474630356, 0.08594661206007004, -0.11588560789823532, 0.008115418255329132, -0.11941417306661606, -0.05525020882487297, -0.02410702593624592, -0.030602652579545975, 0.00141828041523695, -0.055403903126716614, 0.02337060123682022, 0.03604145348072052, -0.019896522164344788, 0.017723390832543373, 0.05332254618406296, 0.0006227969424799085, 0.13632509112358093, -0.07660818845033646, -0.017510170117020607, 0.043152280151844025, 0.04546903073787689, 0.014294994063675404, -0.04963658004999161, -0.04308318719267845, 0.022908879444003105, 0.015709416940808296, 0.09200284630060196, -0.014534019865095615, 0.0173843614757061, -6.3725472711720716e-34, -0.10321086645126343, 0.017083169892430305, 0.008013712242245674, 0.07328034937381744, -0.033669210970401764, 0.02721208892762661, -0.05236626788973808, -0.041489772498607635, -0.04144187271595001, 0.02818809263408184, 0.03312438726425171, 0.11019018292427063, 0.046981681138277054, 0.09897858649492264, 0.028159618377685547, -0.04556158930063248, 0.0024803054984658957, 0.05325384810566902, -0.005302865523844957, -0.03008282370865345, -0.02032630331814289, -0.051305290311574936, 0.05425937846302986, -0.05866272374987602, 0.058384381234645844, -0.0421488918364048, 0.04551153630018234, 0.000185677912668325, 0.03930293023586273, 0.009485634975135326, -0.0837710052728653, -0.021158520132303238, 0.0007902534562163055, 0.0017627489287406206, -0.01628645323216915, 0.04723590612411499, -0.07205092906951904, -0.021389365196228027, 0.0163462832570076, 0.08733709901571274, 0.02512812241911888, 0.05508733540773392, 0.02331552468240261, 0.04649839177727699, -0.06871292740106583, 0.10048416256904602, 0.02273837849497795, -0.003965271636843681, -0.0015001216670498252, 0.008921987377107143, 0.03464037552475929, 0.055972542613744736, 0.08525560796260834, -0.02309545688331127, 0.027621986344456673, -0.04742993041872978, -0.06453315168619156, -0.07582052797079086, -0.05227610096335411, -0.13701392710208893, 0.038395773619413376, 0.004081128630787134, -0.02377677522599697, -0.03269065544009209, -0.03771403059363365, 0.05614929646253586, -0.07778064161539078, 0.022562632337212563, 0.07906319946050644, -0.005560084246098995, 0.03388197347521782, -0.03948703035712242, -0.03603760153055191, -0.001525033381767571, -0.15941819548606873, 0.015362588688731194, -0.04720335081219673, -0.0292062908411026, 0.03701825067400932, -0.0074042282067239285, 0.013561232946813107, -0.08799957484006882, 0.07310498505830765, -0.01631752960383892, 0.061424773186445236, -0.04317493364214897, 0.04698186367750168, -0.03854648023843765, -0.004362473729997873, 0.03549677133560181, -0.08130575716495514, -0.05876351147890091, 0.019167009741067886, 0.0416431799530983, -0.07505576312541962, -1.4142684775429878e-33, -0.10582519322633743, -0.03655959293246269, -0.057071417570114136, 0.07054384797811508, -0.0006735282950103283, 0.023243533447384834, -0.08319367468357086, -0.0958494320511818, 0.10424148291349411, 0.044862017035484314, -0.09563656151294708, -0.06619739532470703, 0.06107395142316818, -0.03755473345518112, 0.07137192040681839, -0.038362935185432434, 0.0160082895308733, 0.03664980083703995, 0.02209489978849888, -0.048961788415908813, 0.03447026386857033, 0.06152354180812836, -0.06128767132759094, 0.01532229408621788, 0.045881547033786774, -0.04425645247101784, 0.007584312930703163, -0.05380573868751526, 0.06386136263608932, -0.03508974239230156, -0.03166742995381355, -0.06469915062189102, -0.040666691958904266, 0.027149144560098648, 0.019107220694422722, 0.052665550261735916, 0.047236666083335876, -0.1072593405842781, 0.006592897232621908, 0.04435671120882034, 0.04022800177335739, -0.05229739472270012, -0.08751930296421051, -0.010239765979349613, -0.14737644791603088, 0.02278180792927742, -0.07619021087884903, 0.07928349822759628, -0.032347094267606735, 0.011957301758229733, 0.022092485800385475, 0.007339369971305132, 0.009738236665725708, 0.025510411709547043, -0.07031562924385071, -0.023755382746458054, 9.191893332172185e-05, 0.07911366969347, 0.08266430348157883, 0.054314836859703064, -0.006331340409815311, -0.030422620475292206, -0.020784631371498108, -0.09849227219820023, 0.025069305673241615, -0.001405627466738224, -0.020387690514326096, -0.023733405396342278, 0.021247554570436478, 0.038771212100982666, 0.06496074050664902, -0.06589587032794952, -0.0458228625357151, 0.057750631123781204, -0.004265326075255871, 0.0028290334157645702, -0.019105304032564163, 0.0636368989944458, 0.009387009777128696, -0.030758153647184372, 0.06949768960475922, -0.054366737604141235, 0.032800715416669846, -0.05724608525633812, 0.03415803983807564, -0.0033556122798472643, -0.0062108468264341354, -0.011514946818351746, -0.0715942457318306, 0.09287012368440628, 0.0738602876663208, -0.00021270157594699413, 0.007851989008486271, 0.07589303702116013, -0.04820437729358673, -4.192751035247966e-08, 0.025218993425369263, -0.05879845842719078, 0.014479847624897957, 0.07649002224206924, 0.019269488751888275, -0.0039800493977963924, -0.023183263838291168, -0.06706880778074265, -0.06610149890184402, -0.010045472532510757, 0.0748068168759346, -0.04289655387401581, 0.0007432142738252878, -0.03975241258740425, 0.05340643599629402, 0.028191369026899338, -0.083470419049263, 0.015037668868899345, -0.016557607799768448, 0.04201514646410942, 0.10878512263298035, 0.0437212698161602, -0.09353543817996979, -0.012821659445762634, 0.030339593067765236, -0.00831842701882124, -0.005093216896057129, 0.04199929162859917, -0.08933235704898834, 0.04810885712504387, -0.06734141707420349, -0.003641478018835187, -0.015088428743183613, 0.02915630117058754, 0.0031594776082783937, 0.11637011915445328, -0.0852428749203682, -0.001276638824492693, 0.005136027466505766, 0.04428255558013916, 0.021935585886240005, 0.09965171664953232, 0.016942081972956657, -0.0300812479108572, -0.04224279522895813, -0.011935163289308548, 0.005530872382223606, 0.008767333813011646, 0.037679605185985565, -0.0007210369221866131, -0.02164078876376152, -0.0007334568654187024, 0.005549220368266106, 0.06413174420595169, 0.07325191795825958, -0.03566161170601845, 0.030723528936505318, 0.006097768899053335, 0.0702396035194397, 0.09757199138402939, 0.0479346439242363, 0.07052747905254364, -0.007327933330088854, -0.08273343741893768], 'id': '164329852411bd33b9819c32f975181dacda15cb', 'position': 13}>\n",
      "Text length: 674\n",
      "Text:  in political platforms also raises ethical and transparency concerns, particularly regarding the authenticity of dynamically adjusted messaging and the potential for voter manipulation. Addressing these challenges is crucial to maintaining voter trust and the integrity of the democratic process. In summary, AI significantly shapes political platforms in real time by providing campaigns with the tools to analyze voter sentiment, segment audiences, and adjust strategies dynamically. While offering substantial benefits in responsiveness and engagement, it is imperative to navigate the accompanying ethical considerations to ensure the responsible use of AI in political\n"
     ]
    }
   ],
   "source": [
    "def get_longest_textual_node():\n",
    "    with driver.session() as session:\n",
    "        query = \"\"\"\n",
    "        MATCH (n)\n",
    "        WHERE n.text IS NOT NULL  // Check if the 'text' property is not null\n",
    "        WITH n, size(n.text) AS text_length  // Calculate the length of 'text'\n",
    "        ORDER BY text_length DESC  // Order nodes by text length in descending order\n",
    "        LIMIT 1  // Get the node with the longest text\n",
    "        RETURN n, text_length\n",
    "        \"\"\"\n",
    "        result = session.run(query)\n",
    "        node = result.single()  # Returns the first match (node with longest text)\n",
    "\n",
    "        if node:\n",
    "            return node['n'], node['text_length']  # Return node and its textual length\n",
    "        else:\n",
    "            return None\n",
    "\n",
    "# Get the node with the longest textual content\n",
    "longest_node, text_length = get_longest_textual_node()\n",
    "\n",
    "# Handle the case where no node was found\n",
    "if longest_node is not None:\n",
    "    print(f\"Node with the longest text: {longest_node}\")\n",
    "    print(f\"Text length: {text_length}\")\n",
    "    print(f\"Text: {longest_node['text']}\")  \n",
    "else:\n",
    "    print(\"No nodes with textual content found.\")"
   ]
  },
  {
   "cell_type": "code",
   "execution_count": null,
   "metadata": {},
   "outputs": [],
   "source": []
  }
 ],
 "metadata": {
  "kernelspec": {
   "display_name": "ml4ed",
   "language": "python",
   "name": "python3"
  },
  "language_info": {
   "codemirror_mode": {
    "name": "ipython",
    "version": 3
   },
   "file_extension": ".py",
   "mimetype": "text/x-python",
   "name": "python",
   "nbconvert_exporter": "python",
   "pygments_lexer": "ipython3",
   "version": "3.11.11"
  }
 },
 "nbformat": 4,
 "nbformat_minor": 2
}
